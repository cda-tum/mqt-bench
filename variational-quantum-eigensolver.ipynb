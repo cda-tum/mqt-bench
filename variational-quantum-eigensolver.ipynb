{
 "cells": [
  {
   "attachments": {},
   "cell_type": "markdown",
   "id": "a6f69b77",
   "metadata": {},
   "source": [
    "*Estimated QPU usage: 73 minutes (tested on IBM Kyiv)*\n",
    "\n",
    "## Background\n",
    "\n",
    "[Variational quantum algorithms](https://arxiv.org/abs/2012.09265) are promising candidate hybrid-algorithms for observing quantum computation utility on noisy near-term devices. Variational algorithms are characterized by the use of a classical optimization algorithm to iteratively update a parameterized trial solution, or \"ansatz\". Chief among these methods is the Variational Quantum Eigensolver (VQE) that aims to solve for the ground state of a given Hamiltonian represented as a linear combination of Pauli terms, with an ansatz circuit where the number of parameters to optimize over is polynomial in the number of qubits.  Given that the size of the full solution vector is exponential in the number of qubits, successful minimization using VQE requires, in general, additional problem-specific information to define the structure of the ansatz circuit.\n",
    "\n",
    "Executing a VQE algorithm requires the following components:\n",
    "\n",
    "1. Hamiltonian and ansatz (problem specification)\n",
    "2. Qiskit Runtime estimator\n",
    "3. Classical optimizer\n",
    "\n",
    "Although the Hamiltonian and ansatz require domain-specific knowledge to construct, these details are immaterial to the Runtime, and we can execute a wide class of VQE problems in the same manner.\n"
   ]
  },
  {
   "cell_type": "markdown",
   "id": "55b94021",
   "metadata": {},
   "source": [
    "## Requirements\n",
    "\n",
    "Before starting this tutorial, ensure that you have the following installed:\n",
    "\n",
    "* Qiskit SDK 1.0 or later, with visualization support (`pip install 'qiskit[visualization]'`)\n",
    "* Qiskit Runtime 0.22 or later(`pip install qiskit-ibm-runtime`)\n"
   ]
  },
  {
   "attachments": {},
   "cell_type": "markdown",
   "id": "988ee237",
   "metadata": {},
   "source": [
    "## Step 1. Map classical inputs to a quantum problem\n",
    "\n",
    "Although the problem instance in question for the VQE algorithm can come from a variety of domains, the form for execution through Qiskit Runtime is the same. Qiskit provides a convenience class for expressing Hamiltonians in Pauli form, and a collection of widely used ansatz circuits in the [`qiskit.circuit.library`](https://docs.quantum-computing.ibm.com/api/qiskit/circuit_library).\n",
    "\n",
    "This example Hamiltonian is derived from a quantum chemistry problem.\n"
   ]
  },
  {
   "attachments": {},
   "cell_type": "markdown",
   "id": "7db2e559",
   "metadata": {},
   "source": [
    "### Setup\n",
    "\n",
    "Here we import the tools needed for a VQE experiment.\n"
   ]
  },
  {
   "cell_type": "code",
   "execution_count": 145,
   "id": "a0a48442",
   "metadata": {},
   "outputs": [],
   "source": [
    "# General imports\n",
    "import numpy as np\n",
    "\n",
    "# Pre-defined ansatz circuit and operator class for Hamiltonian\n",
    "from qiskit.circuit.library import EfficientSU2\n",
    "from qiskit.quantum_info import SparsePauliOp\n",
    "from qiskit.circuit.library import n_local\n",
    "\n",
    "# SciPy minimizer routine\n",
    "from scipy.optimize import minimize\n",
    "\n",
    "# Plotting functions\n",
    "import matplotlib.pyplot as plt"
   ]
  },
  {
   "cell_type": "code",
   "execution_count": 146,
   "id": "bc380c46",
   "metadata": {},
   "outputs": [],
   "source": [
    "# runtime imports\n",
    "from qiskit_ibm_runtime import QiskitRuntimeService, Session\n",
    "from qiskit_ibm_runtime import EstimatorV2 as Estimator\n",
    "from qiskit_aer import AerSimulator\n",
    "\n",
    "# To run on hardware, select the backend with the fewest number of jobs in the queue\n",
    "backend = AerSimulator()"
   ]
  },
  {
   "cell_type": "code",
   "execution_count": 147,
   "id": "0ad66539",
   "metadata": {},
   "outputs": [],
   "source": [
    "hamiltonian = SparsePauliOp.from_list(\n",
    "    [(\"YZ\", 0.3980), (\"ZI\", -0.3980), (\"ZZ\", -0.0113), (\"XX\", 0.1810)]\n",
    ")"
   ]
  },
  {
   "attachments": {},
   "cell_type": "markdown",
   "id": "acb83d48",
   "metadata": {},
   "source": [
    "Our choice of ansatz is the `EfficientSU2` that, by default, linearly entangles qubits, making it ideal for quantum hardware with limited connectivity.\n"
   ]
  },
  {
   "cell_type": "code",
   "execution_count": 167,
   "id": "0ba61e60",
   "metadata": {},
   "outputs": [
    {
     "name": "stdout",
     "output_type": "stream",
     "text": [
      "twolocal_2qubits_2layers_linear_entanglement\n"
     ]
    },
    {
     "data": {
      "text/html": [
       "<pre style=\"word-wrap: normal;white-space: pre;background: #fff0;line-height: 1.1;font-family: &quot;Courier New&quot;,Courier,monospace\">     ┌────┐┌──────────┐     ┌────┐┌──────────┐     ┌────┐┌──────────┐\n",
       "q_0: ┤ √X ├┤ Ry(θ[0]) ├──■──┤ √X ├┤ Ry(θ[2]) ├──■──┤ √X ├┤ Ry(θ[4]) ├\n",
       "     ├────┤├──────────┤┌─┴─┐├────┤├──────────┤┌─┴─┐├────┤├──────────┤\n",
       "q_1: ┤ √X ├┤ Ry(θ[1]) ├┤ X ├┤ √X ├┤ Ry(θ[3]) ├┤ X ├┤ √X ├┤ Ry(θ[5]) ├\n",
       "     └────┘└──────────┘└───┘└────┘└──────────┘└───┘└────┘└──────────┘</pre>"
      ],
      "text/plain": [
       "     ┌────┐┌──────────┐     ┌────┐┌──────────┐     ┌────┐┌──────────┐\n",
       "q_0: ┤ √X ├┤ Ry(θ[0]) ├──■──┤ √X ├┤ Ry(θ[2]) ├──■──┤ √X ├┤ Ry(θ[4]) ├\n",
       "     ├────┤├──────────┤┌─┴─┐├────┤├──────────┤┌─┴─┐├────┤├──────────┤\n",
       "q_1: ┤ √X ├┤ Ry(θ[1]) ├┤ X ├┤ √X ├┤ Ry(θ[3]) ├┤ X ├┤ √X ├┤ Ry(θ[5]) ├\n",
       "     └────┘└──────────┘└───┘└────┘└──────────┘└───┘└────┘└──────────┘"
      ]
     },
     "execution_count": 167,
     "metadata": {},
     "output_type": "execute_result"
    }
   ],
   "source": [
    "n_qubits = hamiltonian.num_qubits\n",
    "n_layers =  2\n",
    "entanglement = \"linear\"\n",
    "\n",
    "multi_qubit_gates = [\"cx\"]\n",
    "single_qubit_gates = [\"sx\", \"ry\"]\n",
    "circ_name = f\"twolocal_{n_qubits}qubits_{n_layers}layers_{entanglement}_entanglement\"\n",
    "print(circ_name)\n",
    "\n",
    "# Create circuit\n",
    "ansatz = n_local(\n",
    "num_qubits=n_qubits,\n",
    "rotation_blocks=single_qubit_gates,\n",
    "entanglement_blocks=multi_qubit_gates,\n",
    "entanglement=entanglement,\n",
    "reps=n_layers,\n",
    "parameter_prefix=\"θ\",\n",
    "insert_barriers=False,\n",
    "overwrite_block_parameters=True,\n",
    "skip_final_rotation_layer=False,\n",
    "skip_unentangled_qubits=False,\n",
    "name=circ_name,\n",
    ")\n",
    "ansatz.draw(style=\"iqp\")"
   ]
  },
  {
   "attachments": {},
   "cell_type": "markdown",
   "id": "5bd1f7da",
   "metadata": {},
   "source": [
    "From the previous figure we see that our ansatz circuit is defined by a vector of parameters, $\\theta_{i}$, with the total number given by:\n"
   ]
  },
  {
   "cell_type": "code",
   "execution_count": 149,
   "id": "aa325696",
   "metadata": {},
   "outputs": [
    {
     "data": {
      "text/plain": [
       "6"
      ]
     },
     "execution_count": 149,
     "metadata": {},
     "output_type": "execute_result"
    }
   ],
   "source": [
    "num_params = ansatz.num_parameters\n",
    "num_params"
   ]
  },
  {
   "cell_type": "markdown",
   "id": "ac6f36e3",
   "metadata": {},
   "source": [
    "## Step 2. Optimize problem for quantum execution\n"
   ]
  },
  {
   "cell_type": "markdown",
   "id": "ed01c675-6506-4779-bf71-74f0de9212fb",
   "metadata": {},
   "source": [
    "To reduce the total job execution time, Qiskit primitives only accept circuits (ansatz) and observables (Hamiltonian) that conform to the instructions and connectivity supported by the target QPU (referred to as instruction set architecture (ISA) circuits and observables).\n"
   ]
  },
  {
   "cell_type": "markdown",
   "id": "3390069d-572c-472c-abb5-9cde12fd82a2",
   "metadata": {},
   "source": [
    "### ISA circuit\n"
   ]
  },
  {
   "cell_type": "markdown",
   "id": "ad6ddd99-b680-4ac4-b2d8-c0ac6266e6e8",
   "metadata": {},
   "source": [
    "Schedule a series of [`qiskit.transpiler`](https://docs.quantum-computing.ibm.com/api/qiskit/transpiler) passes to optimize the circuit for a selected backend and make it compatible with the backend's ISA. This can be easily done with a preset pass manager from `qiskit.transpiler` and its `optimization_level` parameter.\n",
    "\n",
    "The lowest optimization level does the minimum needed to get the circuit running on the device; it maps the circuit qubits to the device qubits and adds swap gates to allow all two-qubit operations. The highest optimization level is much smarter and uses lots of tricks to reduce the overall gate count. Since multi-qubit gates have high error rates and qubits decohere over time, the shorter circuits should give better results.\n"
   ]
  },
  {
   "cell_type": "code",
   "execution_count": 150,
   "id": "1834cb22",
   "metadata": {},
   "outputs": [],
   "source": [
    "from qiskit.transpiler.preset_passmanagers import generate_preset_pass_manager\n",
    "\n",
    "target = backend.target\n",
    "pm = generate_preset_pass_manager(target=target, optimization_level=3)\n",
    "\n",
    "ansatz_isa = pm.run(ansatz)"
   ]
  },
  {
   "cell_type": "code",
   "execution_count": 151,
   "id": "20d9923c",
   "metadata": {},
   "outputs": [
    {
     "data": {
      "text/html": [
       "<pre style=\"word-wrap: normal;white-space: pre;background: #fff0;line-height: 1.1;font-family: &quot;Courier New&quot;,Courier,monospace\">     ┌────┐┌──────────┐     ┌────┐┌──────────┐     ┌────┐┌──────────┐\n",
       "q_0: ┤ √X ├┤ Ry(θ[0]) ├──■──┤ √X ├┤ Ry(θ[2]) ├──■──┤ √X ├┤ Ry(θ[4]) ├\n",
       "     ├────┤├──────────┤┌─┴─┐├────┤├──────────┤┌─┴─┐├────┤├──────────┤\n",
       "q_1: ┤ √X ├┤ Ry(θ[1]) ├┤ X ├┤ √X ├┤ Ry(θ[3]) ├┤ X ├┤ √X ├┤ Ry(θ[5]) ├\n",
       "     └────┘└──────────┘└───┘└────┘└──────────┘└───┘└────┘└──────────┘</pre>"
      ],
      "text/plain": [
       "     ┌────┐┌──────────┐     ┌────┐┌──────────┐     ┌────┐┌──────────┐\n",
       "q_0: ┤ √X ├┤ Ry(θ[0]) ├──■──┤ √X ├┤ Ry(θ[2]) ├──■──┤ √X ├┤ Ry(θ[4]) ├\n",
       "     ├────┤├──────────┤┌─┴─┐├────┤├──────────┤┌─┴─┐├────┤├──────────┤\n",
       "q_1: ┤ √X ├┤ Ry(θ[1]) ├┤ X ├┤ √X ├┤ Ry(θ[3]) ├┤ X ├┤ √X ├┤ Ry(θ[5]) ├\n",
       "     └────┘└──────────┘└───┘└────┘└──────────┘└───┘└────┘└──────────┘"
      ]
     },
     "execution_count": 151,
     "metadata": {},
     "output_type": "execute_result"
    }
   ],
   "source": [
    "ansatz_isa.draw(idle_wires=False, style=\"iqp\")"
   ]
  },
  {
   "cell_type": "markdown",
   "id": "aab9e309-d643-496f-ad4b-c90173102ad6",
   "metadata": {},
   "source": [
    "### ISA observable\n"
   ]
  },
  {
   "cell_type": "markdown",
   "id": "6c9e5dcd",
   "metadata": {},
   "source": [
    "Transform the Hamiltonian to make it backend-compatible before running jobs with [`Runtime Estimator V2`](https://docs.quantum.ibm.com/api/qiskit-ibm-runtime/qiskit_ibm_runtime.EstimatorV2#run). Perform the transformation by using the `apply_layout` method of `SparsePauliOp` object.\n"
   ]
  },
  {
   "cell_type": "code",
   "execution_count": 152,
   "id": "3451901c",
   "metadata": {},
   "outputs": [],
   "source": [
    "hamiltonian_isa = hamiltonian.apply_layout(layout=ansatz_isa.layout)"
   ]
  },
  {
   "attachments": {},
   "cell_type": "markdown",
   "id": "b4d480b3",
   "metadata": {},
   "source": [
    "## Step 3. Execute using Qiskit Primitives\n",
    "\n",
    "Like many classical optimization problems, the solution to a VQE problem can be formulated as minimization of a scalar cost function.  By definition, VQE looks to find the ground state solution to a Hamiltonian by optimizing the ansatz circuit parameters to minimize the expectation value (energy) of the Hamiltonian.  With the Qiskit Runtime [`Estimator`](https://docs.quantum.ibm.com/api/qiskit-ibm-runtime/qiskit_ibm_runtime.EstimatorV2) directly taking a Hamiltonian and parameterized ansatz, and returning the necessary energy, the cost function for a VQE instance is quite simple.\n",
    "\n",
    "Note that the `run()` method of [Qiskit Runtime `EstimatorV2`](https://docs.quantum.ibm.com/api/qiskit-ibm-runtime/qiskit_ibm_runtime.EstimatorV2)  takes an iterable of `primitive unified blocs (PUBs)`. Each PUB is an iterable in the format `(circuit, observables, parameter_values: Optional, precision: Optional)`.\n"
   ]
  },
  {
   "cell_type": "code",
   "execution_count": 153,
   "id": "b22a1b00",
   "metadata": {},
   "outputs": [],
   "source": [
    "import numpy as np\n",
    "from qiskit.primitives.utils import _statevector_from_circuit\n",
    "\n",
    "def compute_entropy(state):\n",
    "    \"\"\"Compute entropy from measurement results.\"\"\"\n",
    "    probabilities = state.probabilities()\n",
    "    probabilities = probabilities[probabilities > 0]  # Avoid log(0)\n",
    "    return -np.sum(probabilities * np.log2(probabilities))\n",
    "\n",
    "def cost_func(params, ansatz, hamiltonian, estimator, constant=1000):\n",
    "    \"\"\"Return estimate of energy with adaptive shot allocation based on entropy.\n",
    "\n",
    "    Parameters:\n",
    "        params (ndarray): Array of ansatz parameters\n",
    "        ansatz (QuantumCircuit): Parameterized ansatz circuit\n",
    "        hamiltonian (SparsePauliOp): Operator representation of Hamiltonian\n",
    "        estimator (EstimatorV2): Estimator primitive instance\n",
    "        cost_history_dict (dict): Dictionary for storing intermediate results\n",
    "        constant (int, optional): Base shot count multiplier for entropy scaling\n",
    "\n",
    "    Returns:\n",
    "        float: Energy estimate\n",
    "    \"\"\"\n",
    "    # Retrieve previous entropy if available, else initialize\n",
    "    prev_entropy = cost_history_dict[\"entropy_history\"][-1]\n",
    "\n",
    "    # Compute adaptive shot count\n",
    "    shots = int(constant * 2 ** prev_entropy)\n",
    "    estimator.options.default_shots = shots\n",
    "\n",
    "    # Run estimation\n",
    "    pub = (ansatz, [hamiltonian], [params])\n",
    "    job = estimator.run([pub])\n",
    "    result = job.result()\n",
    "    \n",
    "    rng = np.random.default_rng()\n",
    "    circ = ansatz.assign_parameters(params)\n",
    "    final_state = _statevector_from_circuit(circ, rng)\n",
    "\n",
    "    # Compute new entropy\n",
    "    entropy = compute_entropy(final_state)\n",
    "\n",
    "    # Extract energy estimate\n",
    "    energy = result[0].data.evs[0]\n",
    "\n",
    "    # Update cost history\n",
    "    cost_history_dict[\"iters\"] += 1\n",
    "    cost_history_dict[\"prev_vector\"] = params\n",
    "    cost_history_dict[\"cost_history\"].append(energy)\n",
    "    cost_history_dict[\"entropy_history\"].append(entropy)\n",
    "    cost_history_dict[\"shots_history\"].append(shots)\n",
    "\n",
    "    print(f\"Iters. done: {cost_history_dict['iters']} [Current cost: {energy}] [Shots: {shots}] [Entropy: {entropy}]\")\n",
    "\n",
    "    return energy"
   ]
  },
  {
   "attachments": {},
   "cell_type": "markdown",
   "id": "179ba2c4",
   "metadata": {},
   "source": [
    "Note that, in addition to the array of optimization parameters that must be the first argument, we use additional arguments to pass the terms needed in the cost function, such as the `cost_history_dict`. This dictionary stores the current vector at each iteration, for example in case you need to restart the routine due to failure, and also returns the current iteration number and average time per iteration.\n"
   ]
  },
  {
   "cell_type": "code",
   "execution_count": 154,
   "id": "a6bc1ade",
   "metadata": {},
   "outputs": [],
   "source": [
    "cost_history_dict = {\n",
    "    \"prev_vector\": None,\n",
    "    \"iters\": 0,\n",
    "    \"cost_history\": [],\n",
    "    \"entropy_history\": [1.0],\n",
    "    \"shots_history\": [],\n",
    "}"
   ]
  },
  {
   "cell_type": "markdown",
   "id": "e80ff7d9",
   "metadata": {},
   "source": [
    "We can now use a classical optimizer of our choice to minimize the cost function. Here, we use the [COBYLA routine from SciPy through the `minimize` function](https://docs.scipy.org/doc/scipy/reference/generated/scipy.optimize.minimize.html). Note that when running on real quantum hardware, the choice of optimizer is important, as not all optimizers handle noisy cost function landscapes equally well.\n",
    "\n",
    "To begin the routine, specify a random initial set of parameters:\n"
   ]
  },
  {
   "cell_type": "code",
   "execution_count": 155,
   "id": "d6b90cca",
   "metadata": {},
   "outputs": [],
   "source": [
    "x0 = 2 * np.pi * np.random.random(num_params)"
   ]
  },
  {
   "cell_type": "code",
   "execution_count": 156,
   "id": "d4587c1d-5d59-47aa-b36c-b6d07b5f84e4",
   "metadata": {},
   "outputs": [
    {
     "data": {
      "text/plain": [
       "array([5.06057756, 5.65052735, 0.76260279, 2.88136174, 1.12723556,\n",
       "       5.43247846])"
      ]
     },
     "execution_count": 156,
     "metadata": {},
     "output_type": "execute_result"
    }
   ],
   "source": [
    "x0"
   ]
  },
  {
   "cell_type": "markdown",
   "id": "67d09ca9",
   "metadata": {},
   "source": [
    "Because we are sending a large number of jobs that we would like to execute together, we use a [`Session`](https://docs.quantum-computing.ibm.com/api/qiskit-ibm-runtime/qiskit_ibm_runtime.Session) to execute all the generated circuits in one block.  Here `args` is the standard SciPy way to supply the additional parameters needed by the cost function.\n"
   ]
  },
  {
   "cell_type": "code",
   "execution_count": 157,
   "id": "61a802d2-5c58-4495-a617-f15fabef367e",
   "metadata": {},
   "outputs": [
    {
     "name": "stdout",
     "output_type": "stream",
     "text": [
      "Iters. done: 1 [Current cost: 0.1449148] [Shots: 2000] [Entropy: 1.5606556835368057]\n",
      "Iters. done: 2 [Current cost: 0.14162610169491527] [Shots: 2949] [Entropy: 1.5606556835368055]\n",
      "Iters. done: 3 [Current cost: 0.12110772881355933] [Shots: 2949] [Entropy: 1.560655683536806]\n",
      "Iters. done: 4 [Current cost: 0.37151620338983055] [Shots: 2949] [Entropy: 1.2194054309337456]\n",
      "Iters. done: 5 [Current cost: 0.006020360824742246] [Shots: 2328] [Entropy: 1.290960780185843]\n",
      "Iters. done: 6 [Current cost: 0.23704875357580713] [Shots: 2446] [Entropy: 1.7971869684372002]\n",
      "Iters. done: 7 [Current cost: 0.1323287769784173] [Shots: 3475] [Entropy: 0.9061229248289984]\n",
      "Iters. done: 8 [Current cost: -0.2827302027748132] [Shots: 1874] [Entropy: 1.4899524631974197]\n",
      "Iters. done: 9 [Current cost: -0.3669332621082621] [Shots: 2808] [Entropy: 1.1098305106529245]\n",
      "Iters. done: 10 [Current cost: -0.047455071792496514] [Shots: 2158] [Entropy: 1.051294005549416]\n",
      "Iters. done: 11 [Current cost: -0.3602283783783784] [Shots: 2072] [Entropy: 1.109851846978553]\n",
      "Iters. done: 12 [Current cost: -0.4611470588235294] [Shots: 2158] [Entropy: 1.3146117975931642]\n",
      "Iters. done: 13 [Current cost: -0.42587675914756734] [Shots: 2487] [Entropy: 1.2834653961760016]\n",
      "Iters. done: 14 [Current cost: -0.32009055053410024] [Shots: 2434] [Entropy: 1.277871786337116]\n",
      "Iters. done: 15 [Current cost: -0.08783696369636965] [Shots: 2424] [Entropy: 1.7616919609993194]\n",
      "Iters. done: 16 [Current cost: -0.5198038348082596] [Shots: 3390] [Entropy: 1.0289957891939376]\n",
      "Iters. done: 17 [Current cost: -0.5228500980392157] [Shots: 2040] [Entropy: 0.6409689896200714]\n",
      "Iters. done: 18 [Current cost: -0.5182247435897437] [Shots: 1559] [Entropy: 0.6476339491942164]\n",
      "Iters. done: 19 [Current cost: -0.5487961685823756] [Shots: 1566] [Entropy: 0.646218209257226]\n",
      "Iters. done: 20 [Current cost: -0.44075610223642175] [Shots: 1565] [Entropy: 0.2402364550233962]\n",
      "Iters. done: 21 [Current cost: -0.5479060965283657] [Shots: 1181] [Entropy: 0.7020063700301947]\n",
      "Iters. done: 22 [Current cost: -0.5347534726490473] [Shots: 1626] [Entropy: 0.7510950917967153]\n",
      "Iters. done: 23 [Current cost: -0.5463695187165776] [Shots: 1683] [Entropy: 1.203072367906052]\n",
      "Iters. done: 24 [Current cost: -0.5366615117289314] [Shots: 2302] [Entropy: 0.6094863745938416]\n",
      "Iters. done: 25 [Current cost: -0.5573894426229508] [Shots: 1525] [Entropy: 0.5613057967574875]\n",
      "Iters. done: 26 [Current cost: -0.540540813559322] [Shots: 1475] [Entropy: 0.5752394658563857]\n",
      "Iters. done: 27 [Current cost: -0.5548132885906041] [Shots: 1489] [Entropy: 0.5920778893653249]\n",
      "Iters. done: 28 [Current cost: -0.5257541473125414] [Shots: 1507] [Entropy: 0.5308515783148544]\n",
      "Iters. done: 29 [Current cost: -0.5537354325259516] [Shots: 1444] [Entropy: 0.5510998695041855]\n",
      "Iters. done: 30 [Current cost: -0.5255446416382252] [Shots: 1465] [Entropy: 0.48683868580323086]\n",
      "Iters. done: 31 [Current cost: -0.5611350927246791] [Shots: 1401] [Entropy: 0.7136454676713759]\n",
      "Iters. done: 32 [Current cost: -0.558254268292683] [Shots: 1639] [Entropy: 0.7462217929197695]\n",
      "Iters. done: 33 [Current cost: -0.5643484197972569] [Shots: 1677] [Entropy: 0.7479465265781646]\n",
      "Iters. done: 34 [Current cost: -0.5625160714285714] [Shots: 1679] [Entropy: 0.7571764648971704]\n",
      "Iters. done: 35 [Current cost: -0.5783095857988167] [Shots: 1690] [Entropy: 0.8476908987674261]\n",
      "Iters. done: 36 [Current cost: -0.5628556420233464] [Shots: 1799] [Entropy: 0.9435248525205895]\n",
      "Iters. done: 37 [Current cost: -0.5521515592515593] [Shots: 1923] [Entropy: 0.890578293642204]\n",
      "Iters. done: 38 [Current cost: -0.5711330275229357] [Shots: 1853] [Entropy: 0.7951860226201161]\n",
      "Iters. done: 39 [Current cost: -0.5700941210374639] [Shots: 1735] [Entropy: 0.8821859995973986]\n",
      "Iters. done: 40 [Current cost: -0.5722073752711497] [Shots: 1843] [Entropy: 0.8848674776809833]\n",
      "Iters. done: 41 [Current cost: -0.5461536294691225] [Shots: 1846] [Entropy: 0.905587178024327]\n",
      "Iters. done: 42 [Current cost: -0.5673982381206619] [Shots: 1873] [Entropy: 0.8600106073569572]\n",
      "Iters. done: 43 [Current cost: -0.5594090308370043] [Shots: 1815] [Entropy: 0.8690758891651168]\n",
      "Iters. done: 44 [Current cost: -0.5782783251231527] [Shots: 1826] [Entropy: 0.8499244908509818]\n",
      "Iters. done: 45 [Current cost: -0.5716790233074363] [Shots: 1802] [Entropy: 0.85538563282755]\n",
      "Iters. done: 46 [Current cost: -0.5389149253731342] [Shots: 1809] [Entropy: 0.818476624529358]\n",
      "Iters. done: 47 [Current cost: -0.5491233692569484] [Shots: 1763] [Entropy: 0.8400052960018916]\n",
      "Iters. done: 48 [Current cost: -0.5709565047459519] [Shots: 1790] [Entropy: 0.8468496063850306]\n",
      "Iters. done: 49 [Current cost: -0.5611767519466074] [Shots: 1798] [Entropy: 0.8643421123720134]\n",
      "Iters. done: 50 [Current cost: -0.5586712246018672] [Shots: 1820] [Entropy: 0.8527768175079853]\n",
      "Iters. done: 51 [Current cost: -0.5454236987818384] [Shots: 1805] [Entropy: 0.8501131892568571]\n",
      "Iters. done: 52 [Current cost: -0.5574955604883464] [Shots: 1802] [Entropy: 0.8474303823474563]\n",
      "Iters. done: 53 [Current cost: -0.5488425236242357] [Shots: 1799] [Entropy: 0.8422789340020236]\n",
      "Iters. done: 54 [Current cost: -0.5562894032348019] [Shots: 1792] [Entropy: 0.8489792379009533]\n",
      "Iters. done: 55 [Current cost: -0.5678509433962265] [Shots: 1801] [Entropy: 0.8517115432065872]\n",
      "Iters. done: 56 [Current cost: -0.5855401108033241] [Shots: 1804] [Entropy: 0.8467130202908084]\n",
      "Iters. done: 57 [Current cost: -0.5527745272525029] [Shots: 1798] [Entropy: 0.8455140977707852]\n",
      "Iters. done: 58 [Current cost: -0.5666830734966593] [Shots: 1796] [Entropy: 0.847125742753857]\n",
      "Iters. done: 59 [Current cost: -0.5474024471635152] [Shots: 1798] [Entropy: 0.8462567465754998]\n",
      "Iters. done: 60 [Current cost: -0.5790023928770173] [Shots: 1797] [Entropy: 0.8471382177666773]\n",
      "Iters. done: 61 [Current cost: -0.5514096774193549] [Shots: 1798] [Entropy: 0.8454913762939112]\n",
      "Iters. done: 62 [Current cost: -0.557897995545657] [Shots: 1796] [Entropy: 0.8482560866646908]\n",
      "Iters. done: 63 [Current cost: -0.5712943333333333] [Shots: 1800] [Entropy: 0.8477085253630965]\n",
      "Iters. done: 64 [Current cost: -0.5631719288493608] [Shots: 1799] [Entropy: 0.8470654927672528]\n",
      "Iters. done: 65 [Current cost: -0.5666705228031146] [Shots: 1798] [Entropy: 0.8466037969220859]\n",
      "Iters. done: 66 [Current cost: -0.5545030033370412] [Shots: 1798] [Entropy: 0.8469324679922086]\n",
      "Iters. done: 67 [Current cost: -0.546195550611791] [Shots: 1798] [Entropy: 0.8466911315635814]\n",
      "Iters. done: 68 [Current cost: -0.530510678531702] [Shots: 1798] [Entropy: 0.8468466196301718]\n",
      "Iters. done: 69 [Current cost: -0.5517406006674083] [Shots: 1798] [Entropy: 0.8466579456706105]\n",
      "Iters. done: 70 [Current cost: -0.5505785317018909] [Shots: 1798] [Entropy: 0.8467127203996099]\n",
      "Iters. done: 71 [Current cost: -0.5436511679644048] [Shots: 1798] [Entropy: 0.8466565264908477]\n",
      "Iters. done: 72 [Current cost: -0.5625562847608453] [Shots: 1798] [Entropy: 0.8468322334493648]\n",
      "Iters. done: 73 [Current cost: -0.5713436040044494] [Shots: 1798] [Entropy: 0.8464426595492169]\n",
      "Iters. done: 74 [Current cost: -0.5617767519466074] [Shots: 1798] [Entropy: 0.8467696958273191]\n",
      "Iters. done: 75 [Current cost: -0.5675410456062292] [Shots: 1798] [Entropy: 0.846731874078404]\n",
      "Iters. done: 76 [Current cost: -0.5611073414905451] [Shots: 1798] [Entropy: 0.8467240994889016]\n",
      "Iters. done: 77 [Current cost: -0.5457857619577309] [Shots: 1798] [Entropy: 0.8467654342101136]\n",
      "Iters. done: 78 [Current cost: -0.5346172413793104] [Shots: 1798] [Entropy: 0.8465977166759944]\n",
      "Iters. done: 79 [Current cost: -0.5734136818687431] [Shots: 1798] [Entropy: 0.8467145329522323]\n",
      "Iters. done: 80 [Current cost: -0.5730105672969967] [Shots: 1798] [Entropy: 0.8466760486626084]\n"
     ]
    }
   ],
   "source": [
    "with Session(backend=backend) as session:\n",
    "    estimator = Estimator(mode=session)\n",
    "    estimator.options.default_shots = 10000\n",
    "\n",
    "    res = minimize(\n",
    "        cost_func,\n",
    "        x0,\n",
    "        args=(ansatz_isa, hamiltonian_isa, estimator),\n",
    "        method=\"cobyla\",\n",
    "    )"
   ]
  },
  {
   "cell_type": "markdown",
   "id": "937f5a6e",
   "metadata": {},
   "source": [
    "At the terminus of this routine we have a result in the standard SciPy `OptimizeResult` format.  From this we see that it took `nfev` number of cost function evaluations to obtain the solution vector of parameter angles (`x`) that, when plugged into the ansatz circuit, yield the approximate ground state solution we were looking for.\n"
   ]
  },
  {
   "cell_type": "code",
   "execution_count": 158,
   "id": "4e76845a-3fa0-4d12-86b5-de5b2bdee86c",
   "metadata": {},
   "outputs": [
    {
     "data": {
      "text/plain": [
       " message: Optimization terminated successfully.\n",
       " success: True\n",
       "  status: 1\n",
       "     fun: -0.5730105672969967\n",
       "       x: [ 6.009e+00  6.636e+00 -7.296e-01  5.038e+00 -2.826e-02\n",
       "            6.170e+00]\n",
       "    nfev: 80\n",
       "   maxcv: 0.0"
      ]
     },
     "execution_count": 158,
     "metadata": {},
     "output_type": "execute_result"
    }
   ],
   "source": [
    "res"
   ]
  },
  {
   "cell_type": "markdown",
   "id": "50b94af2",
   "metadata": {},
   "source": [
    "## Step 4. Post-process, return result in classical format\n"
   ]
  },
  {
   "attachments": {},
   "cell_type": "markdown",
   "id": "733431ad",
   "metadata": {},
   "source": [
    "If the procedure terminates correctly, then the `prev_vector` and `iters` values in our `cost_history_dict` dictionary should be equal to the solution vector and total number of function evaluations, respectively.  This is easy to verify:\n"
   ]
  },
  {
   "cell_type": "code",
   "execution_count": 159,
   "id": "31dc35ea-6554-4ca7-9c3b-0b5394c46e4e",
   "metadata": {},
   "outputs": [
    {
     "data": {
      "text/plain": [
       "True"
      ]
     },
     "execution_count": 159,
     "metadata": {},
     "output_type": "execute_result"
    }
   ],
   "source": [
    "all(cost_history_dict[\"prev_vector\"] == res.x)"
   ]
  },
  {
   "cell_type": "code",
   "execution_count": 160,
   "id": "a90d1664-1728-4a8a-bb11-03f15e3f5639",
   "metadata": {},
   "outputs": [
    {
     "data": {
      "text/plain": [
       "True"
      ]
     },
     "execution_count": 160,
     "metadata": {},
     "output_type": "execute_result"
    }
   ],
   "source": [
    "cost_history_dict[\"iters\"] == res.nfev"
   ]
  },
  {
   "attachments": {},
   "cell_type": "markdown",
   "id": "19459b48",
   "metadata": {},
   "source": [
    "We can also now view the progress toward convergence as monitored by the cost history at each iteration:\n"
   ]
  },
  {
   "cell_type": "code",
   "execution_count": 161,
   "id": "8501d609",
   "metadata": {},
   "outputs": [
    {
     "data": {
      "image/png": "[encoded data removed]",
      "text/plain": [
       "<Figure size 640x480 with 1 Axes>"
      ]
     },
     "metadata": {},
     "output_type": "display_data"
    }
   ],
   "source": [
    "fig, ax = plt.subplots()\n",
    "ax.plot(range(cost_history_dict[\"iters\"]), cost_history_dict[\"cost_history\"])\n",
    "ax.set_xlabel(\"Iterations\")\n",
    "ax.set_ylabel(\"Cost\")\n",
    "plt.draw()"
   ]
  },
  {
   "cell_type": "code",
   "execution_count": 162,
   "id": "2f931cca",
   "metadata": {},
   "outputs": [
    {
     "data": {
      "image/png": "[encoded data removed]",
      "text/plain": [
       "<Figure size 640x480 with 1 Axes>"
      ]
     },
     "metadata": {},
     "output_type": "display_data"
    }
   ],
   "source": [
    "fig, ax = plt.subplots()\n",
    "ax.plot(range(cost_history_dict[\"iters\"]), cost_history_dict[\"entropy_history\"][1:])\n",
    "ax.set_xlabel(\"Iterations\")\n",
    "ax.set_ylabel(\"Entropy\")\n",
    "plt.draw()"
   ]
  },
  {
   "cell_type": "code",
   "execution_count": 163,
   "id": "c1e54abc",
   "metadata": {},
   "outputs": [
    {
     "data": {
      "image/png": "[encoded data removed]",
      "text/plain": [
       "<Figure size 640x480 with 1 Axes>"
      ]
     },
     "metadata": {},
     "output_type": "display_data"
    }
   ],
   "source": [
    "fig, ax = plt.subplots()\n",
    "ax.plot(range(cost_history_dict[\"iters\"]), cost_history_dict[\"shots_history\"])\n",
    "ax.set_xlabel(\"Iterations (Parameter Update)\")\n",
    "ax.set_ylabel(\"Shots\")\n",
    "plt.draw()"
   ]
  },
  {
   "cell_type": "markdown",
   "id": "d2958e37",
   "metadata": {},
   "source": [
    "## Tutorial Survey\n",
    "\n",
    "<table style=\"width: 100%;\">\n",
    "<tbody>\n",
    "<tr>\n",
    "<td style=\"width: 10%;\"><img src=\"https://learning-api.quantum.ibm.com/assets/53171443-b07b-4ae6-a4be-9aec32a854f5\" alt=\"Survey\" width=\"100%\" height=\"100%\"></td>\n",
    "<td style=\"width: 80%;\"><strong><a title=\"Tutorial Survey\" href=\"https://your.feedback.ibm.com/jfe/form/SV_9AizRyKFHEGzVs2\" target=\"_blank\">Tutorial Survey</a></strong><br>Please take one minute to provide feedback on this tutorial. Your insights will help us improve our content offerings and user experience.</td>\n",
    "</tr>\n",
    "</tbody>\n",
    "</table>\n"
   ]
  }
 ],
 "metadata": {
  "kernelspec": {
   "display_name": ".venv",
   "language": "python",
   "name": "python3"
  },
  "language_info": {
   "codemirror_mode": {
    "name": "ipython",
    "version": 3
   },
   "file_extension": ".py",
   "mimetype": "text/x-python",
   "name": "python",
   "nbconvert_exporter": "python",
   "pygments_lexer": "ipython3",
   "version": "3.12.6"
  }
 },
 "nbformat": 4,
 "nbformat_minor": 5
}
