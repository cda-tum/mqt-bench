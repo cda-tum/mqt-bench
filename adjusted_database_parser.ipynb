{
 "cells": [
  {
   "cell_type": "code",
   "execution_count": 204,
   "id": "f334d4ee",
   "metadata": {},
   "outputs": [],
   "source": [
    "benchmarks = [\n",
    "    {\"name\": \"Amplitude Estimation (AE)\", \"id\": \"1\", \"filename\": \"ae\"},\n",
    "    {\"name\": \"Deutsch-Jozsa\", \"id\": \"2\", \"filename\": \"dj\"},\n",
    "    {\"name\": \"Graph State\", \"id\": \"3\", \"filename\": \"graphstate\"},\n",
    "    {\"name\": \"GHZ State\", \"id\": \"4\", \"filename\": \"ghz\"},\n",
    "    {\"name\": \"Grover's (no ancilla)\", \"id\": \"5\", \"filename\": \"grover-noancilla\"},\n",
    "    {\"name\": \"Grover's (v-chain)\", \"id\": \"6\", \"filename\": \"grover-v-chain\"},\n",
    "    {\n",
    "        \"name\": \"Portfolio Optimization with QAOA\",\n",
    "        \"id\": \"7\",\n",
    "        \"filename\": \"portfolioqaoa\",\n",
    "    },\n",
    "    {\"name\": \"Portfolio Optimization with VQE\", \"id\": \"8\", \"filename\": \"portfoliovqe\"},\n",
    "    {\n",
    "        \"name\": \"Quantum Approximation Optimization Algorithm (QAOA)\",\n",
    "        \"id\": \"9\",\n",
    "        \"filename\": \"qaoa\",\n",
    "    },\n",
    "    {\"name\": \"Quantum Fourier Transformation (QFT)\", \"id\": \"10\", \"filename\": \"qft\"},\n",
    "    {\"name\": \"QFT Entangled\", \"id\": \"11\", \"filename\": \"qftentangled\"},\n",
    "    {\"name\": \"Quantum Generative Adversarial Network\", \"id\": \"12\", \"filename\": \"qgan\"},\n",
    "    {\n",
    "        \"name\": \"Quantum Phase Estimation (QPE) exact\",\n",
    "        \"id\": \"13\",\n",
    "        \"filename\": \"qpeexact\",\n",
    "    },\n",
    "    {\n",
    "        \"name\": \"Quantum Phase Estimation (QPE) inexact\",\n",
    "        \"id\": \"14\",\n",
    "        \"filename\": \"qpeinexact\",\n",
    "    },\n",
    "    {\"name\": \"Quantum Walk (no ancilla)\", \"id\": \"15\", \"filename\": \"qwalk-noancilla\"},\n",
    "    {\"name\": \"Quantum Walk (v-chain)\", \"id\": \"16\", \"filename\": \"qwalk-v-chain\"},\n",
    "    {\"name\": \"Variational Quantum Eigensolver (VQE)\", \"id\": \"17\", \"filename\": \"vqe\"},\n",
    "    {\n",
    "        \"name\": \"Efficient SU2 ansatz with Random Parameters\",\n",
    "        \"id\": \"18\",\n",
    "        \"filename\": \"su2random\",\n",
    "    },\n",
    "    {\n",
    "        \"name\": \"Real Amplitudes ansatz with Random Parameters\",\n",
    "        \"id\": \"19\",\n",
    "        \"filename\": \"realamprandom\",\n",
    "    },\n",
    "    {\n",
    "        \"name\": \"Two Local ansatz with Random Parameters\",\n",
    "        \"id\": \"20\",\n",
    "        \"filename\": \"twolocalrandom\",\n",
    "    },\n",
    "    {\"name\": \"W-State\", \"id\": \"21\", \"filename\": \"wstate\"},\n",
    "]\n",
    "\n",
    "nonscalable_benchmarks = [\n",
    "    {\"name\": \"Excited State\", \"id\": \"22\", \"filename\": \"excitedstate\"},\n",
    "    {\"name\": \"Ground State\", \"id\": \"23\", \"filename\": \"groundstate\"},\n",
    "    {\"name\": \"HHL\", \"id\": \"24\", \"filename\": \"hhl\"},\n",
    "    {\"name\": \"Pricing Call Option\", \"id\": \"25\", \"filename\": \"pricingcall\"},\n",
    "    {\"name\": \"Pricing Put Option\", \"id\": \"26\", \"filename\": \"pricingput\"},\n",
    "    {\"name\": \"Routing\", \"id\": \"27\", \"filename\": \"routing\"},\n",
    "    {\"name\": \"Shor's\", \"id\": \"28\", \"filename\": \"shor\"},\n",
    "    {\"name\": \"Travelling Salesman\", \"id\": \"29\", \"filename\": \"tsp\"},\n",
    "]"
   ]
  },
  {
   "cell_type": "code",
   "execution_count": 205,
   "id": "63cd9080",
   "metadata": {},
   "outputs": [],
   "source": [
    "def get_opt_level(filename: str):\n",
    "    \"\"\"Extracts the optimization level based on a filename.\n",
    "\n",
    "    Keyword arguments:\n",
    "    filename -- filename of a benchmark\n",
    "\n",
    "    Return values:\n",
    "    num -- optimization level\n",
    "    \"\"\"\n",
    "\n",
    "    pat = re.compile(r\"opt\\d\")\n",
    "    m = pat.search(filename)\n",
    "    if m:\n",
    "        num = m.group()[-1:]\n",
    "    else:\n",
    "        num = -1\n",
    "    return int(num)"
   ]
  },
  {
   "cell_type": "code",
   "execution_count": 206,
   "id": "92b83186",
   "metadata": {},
   "outputs": [],
   "source": [
    "def get_num_qubits(filename: str):\n",
    "    \"\"\"Extracts the number of qubits based on a filename.\n",
    "\n",
    "    Keyword arguments:\n",
    "    filename -- filename of a benchmark\n",
    "\n",
    "    Return values:\n",
    "    num -- optimization level\n",
    "    \"\"\"\n",
    "\n",
    "    pat = re.compile(r\"(\\d+)\\.\")\n",
    "    m = pat.search(filename)\n",
    "    if m:\n",
    "        num = m.group()[0:-1]\n",
    "    else:\n",
    "        num = -1\n",
    "    return int(num)"
   ]
  },
  {
   "cell_type": "code",
   "execution_count": 207,
   "id": "1d2ffaed",
   "metadata": {},
   "outputs": [],
   "source": [
    "def get_tket_settings(filename: str):\n",
    "    if \"line\" in filename:\n",
    "        return \"line\"\n",
    "    elif \"graph\" in filename:\n",
    "        return \"graph\"\n",
    "\n",
    "\n",
    "def get_gate_set(filename: str):\n",
    "    if \"oqc\" in filename:\n",
    "        return \"oqc\"\n",
    "    elif \"ionq\" in filename:\n",
    "        return \"ionq\"\n",
    "    elif \"ibm\" in filename:\n",
    "        return \"ibm\"\n",
    "    elif \"rigetti\" in filename:\n",
    "        return \"rigetti\"\n",
    "\n",
    "\n",
    "def get_target_device(filename: str):\n",
    "    if \"ibm_washington\" in filename:\n",
    "        return \"ibm_washington\"\n",
    "    elif \"ibm_montreal\" in filename:\n",
    "        return \"ibm_montreal\"\n",
    "    elif \"rigetti_aspen_m1\" in filename:\n",
    "        return \"rigetti_aspen_m1\"\n",
    "    elif \"ionq11\" in filename:\n",
    "        return \"ionq11\"\n",
    "    elif \"oqc_lucy\" in filename:\n",
    "        return \"oqc_lucy\""
   ]
  },
  {
   "cell_type": "code",
   "execution_count": 208,
   "id": "a8d83429",
   "metadata": {},
   "outputs": [],
   "source": [
    "def get_compiler_and_settings(filename: str):\n",
    "    if \"qiskit\" in filename:\n",
    "        return (\"qiskit\", get_opt_level(filename))\n",
    "    elif \"tket\" in filename:\n",
    "        return (\"tket\", get_tket_settings(filename))"
   ]
  },
  {
   "cell_type": "code",
   "execution_count": 209,
   "id": "f133dfb1",
   "metadata": {},
   "outputs": [],
   "source": [
    "def parse_data(filename: str):\n",
    "    \"\"\"Extracts the necessary information from a given filename.\n",
    "\n",
    "    Keyword arguments:\n",
    "    filename -- name of file\n",
    "\n",
    "    Return values:\n",
    "    parsed_data -- parsed data extracted from filename\n",
    "    \"\"\"\n",
    "    benchmark = filename.split(\"_\")[1].lower().split(\"/\")[-1]\n",
    "    num_qubits = get_num_qubits(filename)\n",
    "    indep_flag = \"indep\" in filename\n",
    "    nativegates_flag = \"nativegates\" in filename\n",
    "    mapped_flag = \"mapped\" in filename\n",
    "    compiler, compiler_settings = get_compiler_and_settings(filename)\n",
    "    gate_set = get_gate_set(filename)\n",
    "    target_device = get_target_device(filename)\n",
    "\n",
    "    path = os.path.join(filename)\n",
    "    parsed_data = [\n",
    "        benchmark,\n",
    "        num_qubits,\n",
    "        indep_flag,\n",
    "        nativegates_flag,\n",
    "        mapped_flag,\n",
    "        compiler,\n",
    "        compiler_settings,\n",
    "        gate_set,\n",
    "        target_device,\n",
    "        path,\n",
    "    ]\n",
    "    return parsed_data"
   ]
  },
  {
   "cell_type": "code",
   "execution_count": 213,
   "id": "7618ce2d",
   "metadata": {},
   "outputs": [
    {
     "data": {
      "text/plain": [
       "(36044, 10)"
      ]
     },
     "execution_count": 213,
     "metadata": {},
     "output_type": "execute_result"
    }
   ],
   "source": [
    "from mqt.bench.utils import utils, qiskit_helper, tket_helper\n",
    "import os\n",
    "import re\n",
    "import pandas as pd\n",
    "\n",
    "rows_list = []\n",
    "# for filename in os.listdir(qasm_path):\n",
    "directory = (\n",
    "    \"/Users/nils/Desktop/qasm_output/qasm_output\"  # utils.get_qasm_output_path()\n",
    ")\n",
    "\n",
    "for f in os.listdir(directory):\n",
    "    parsed_data = parse_data(os.path.join(directory, f))\n",
    "    rows_list.append(parsed_data)\n",
    "\n",
    "\n",
    "colnames = [\n",
    "    \"benchmark\",\n",
    "    \"num_qubits\",\n",
    "    \"indep_flag\",\n",
    "    \"nativegates_flag\",\n",
    "    \"mapped_flag\",\n",
    "    \"compiler\",\n",
    "    \"compiler_settings\",\n",
    "    \"gate_set\",\n",
    "    \"target_device\",\n",
    "    \"path\",\n",
    "]\n",
    "\n",
    "database = pd.DataFrame(rows_list, columns=colnames)\n",
    "database[\"num_qubits\"] = database[\"num_qubits\"].astype(int)\n",
    "database[\"benchmark\"] = database[\"benchmark\"].astype(str)\n",
    "\n",
    "database.shape"
   ]
  },
  {
   "cell_type": "code",
   "execution_count": 214,
   "id": "d1773aa8",
   "metadata": {
    "scrolled": true
   },
   "outputs": [
    {
     "name": "stdout",
     "output_type": "stream",
     "text": [
      "[False, True]\n"
     ]
    }
   ],
   "source": [
    "print(list(database.indep_flag.unique()))"
   ]
  },
  {
   "cell_type": "code",
   "execution_count": 215,
   "id": "fb0d3b37",
   "metadata": {},
   "outputs": [],
   "source": [
    "def filterDatabase(filterCriteria, database):\n",
    "    colnames = [\n",
    "        \"benchmark\",\n",
    "        \"num_qubits\",\n",
    "        \"indep_flag\",\n",
    "        \"nativegates_flag\",\n",
    "        \"mapped_flag\",\n",
    "        \"compiler\",\n",
    "        \"compiler_settings\",\n",
    "        \"gate_set\",\n",
    "        \"target_device\",\n",
    "        \"path\",\n",
    "    ]\n",
    "    db_filtered = pd.DataFrame(columns=colnames)\n",
    "    if len(database) == 0:\n",
    "        return []\n",
    "\n",
    "    (\n",
    "        (min_qubits, max_qubits),\n",
    "        indices_benchmarks,\n",
    "        (indep_qiskit_compiler, indep_tket_compiler),\n",
    "        (\n",
    "            (nativegates_qiskit_compiler, nativegates_tket_compiler),\n",
    "            native_qiskit_opt_lvls,\n",
    "            native_gatesets,\n",
    "        ),\n",
    "        (\n",
    "            (mapped_qiskit_compiler, mapped_tket_compiler),\n",
    "            (mapped_qiskit_opt_lvls, mapped_tket_placements),\n",
    "            mapped_devices,\n",
    "        ),\n",
    "    ) = filterCriteria\n",
    "\n",
    "    for identifier in indices_benchmarks:\n",
    "        if int(identifier) > 0 and int(identifier) <= len(benchmarks):\n",
    "            name = benchmarks[int(identifier) - 1][\"filename\"]\n",
    "\n",
    "            db_tmp = database.loc[\n",
    "                (database[\"num_qubits\"] >= min_qubits)\n",
    "                & (database[\"num_qubits\"] <= max_qubits)\n",
    "                & (database[\"benchmark\"] == name)\n",
    "            ]\n",
    "        elif int(identifier) > 0 and int(identifier) <= len(benchmarks) + len(\n",
    "            nonscalable_benchmarks\n",
    "        ):\n",
    "            name = nonscalable_benchmarks[int(identifier) - 1 - len(benchmarks)][\n",
    "                \"filename\"\n",
    "            ]\n",
    "            db_tmp = database.loc[database[\"benchmark\"] == name]\n",
    "        else:\n",
    "            print(\"FAIL\")\n",
    "\n",
    "        print(name, \":\", len(db_tmp))\n",
    "\n",
    "        if indep_qiskit_compiler:\n",
    "            db_tmp1 = db_tmp.loc[\n",
    "                (db_tmp[\"indep_flag\"] == True) & (db_tmp[\"compiler\"] == \"qiskit\")\n",
    "            ]\n",
    "            db_filtered = pd.concat([db_filtered, db_tmp1])\n",
    "\n",
    "        if indep_tket_compiler:\n",
    "            db_tmp2 = db_tmp.loc[\n",
    "                (db_tmp[\"indep_flag\"] == True) & (db_tmp[\"compiler\"] == \"tket\")\n",
    "            ]\n",
    "            db_filtered = pd.concat([db_filtered, db_tmp2])\n",
    "\n",
    "        if nativegates_qiskit_compiler:\n",
    "            for gate_set in native_gatesets:\n",
    "                for opt_lvl in native_qiskit_opt_lvls:\n",
    "                    db_tmp3 = db_tmp.loc[\n",
    "                        (db_tmp[\"nativegates_flag\"] == True)\n",
    "                        & (db_tmp[\"gate_set\"] == gate_set)\n",
    "                        & (db_tmp[\"compiler\"] == \"qiskit\")\n",
    "                        & (db_tmp[\"compiler_settings\"] == opt_lvl)\n",
    "                    ]\n",
    "                    db_filtered = pd.concat([db_filtered, db_tmp3])\n",
    "\n",
    "        if nativegates_tket_compiler:\n",
    "            for gate_set in native_gatesets:\n",
    "                db_tmp4 = db_tmp.loc[\n",
    "                    (db_tmp[\"nativegates_flag\"] == True)\n",
    "                    & (db_tmp[\"gate_set\"] == gate_set)\n",
    "                    & (db_tmp[\"compiler\"] == \"tket\")\n",
    "                ]\n",
    "                db_filtered = pd.concat([db_filtered, db_tmp4])\n",
    "\n",
    "        if mapped_qiskit_compiler:\n",
    "            for opt_lvl in native_qiskit_opt_lvls:\n",
    "                for device in mapped_devices:\n",
    "                    db_tmp5 = db_tmp.loc[\n",
    "                        (db_tmp[\"mapped_flag\"] == True)\n",
    "                        & (db_tmp[\"target_device\"] == device)\n",
    "                        & (db_tmp[\"compiler\"] == \"qiskit\")\n",
    "                        & (db_tmp[\"compiler_settings\"] == opt_lvl)\n",
    "                    ]\n",
    "                    db_filtered = pd.concat([db_filtered, db_tmp5])\n",
    "\n",
    "        if mapped_tket_compiler:\n",
    "            for placement in mapped_tket_placements:\n",
    "                for device in mapped_devices:\n",
    "                    db_tmp6 = db_tmp.loc[\n",
    "                        (db_tmp[\"mapped_flag\"] == True)\n",
    "                        & (db_tmp[\"target_device\"] == device)\n",
    "                        & (db_tmp[\"compiler\"] == \"tket\")\n",
    "                        & (db_tmp[\"compiler_settings\"] == placement)\n",
    "                    ]\n",
    "                    db_filtered = pd.concat([db_filtered, db_tmp6])\n",
    "\n",
    "    return db_filtered[\"path\"].to_list()"
   ]
  },
  {
   "cell_type": "code",
   "execution_count": 196,
   "id": "eb8b9026",
   "metadata": {},
   "outputs": [
    {
     "name": "stdout",
     "output_type": "stream",
     "text": [
      "ae : 2035\n",
      "dj : 4188\n",
      "graphstate : 3971\n",
      "ghz : 4270\n",
      "grover-noancilla : 310\n",
      "grover-v-chain : 0\n",
      "portfolioqaoa : 352\n",
      "portfoliovqe : 442\n",
      "qaoa : 750\n",
      "qft : 2060\n",
      "qftentangled : 2009\n",
      "qgan : 104\n",
      "qpeexact : 2031\n",
      "qpeinexact : 2029\n",
      "qwalk-noancilla : 262\n",
      "qwalk-v-chain : 0\n",
      "vqe : 559\n",
      "su2random : 1824\n",
      "realamprandom : 1829\n",
      "twolocalrandom : 1824\n",
      "wstate : 4270\n",
      "excitedstate : 0\n",
      "groundstate : 0\n",
      "hhl : 78\n",
      "pricingcall : 343\n",
      "pricingput : 341\n",
      "routing : 103\n",
      "shor : 8\n",
      "tsp : 52\n"
     ]
    }
   ],
   "source": [
    "criteria = (\n",
    "    (1, 130),\n",
    "    [\n",
    "        \"1\",\n",
    "        \"2\",\n",
    "        \"3\",\n",
    "        \"4\",\n",
    "        \"5\",\n",
    "        \"6\",\n",
    "        \"7\",\n",
    "        \"8\",\n",
    "        \"9\",\n",
    "        \"10\",\n",
    "        \"11\",\n",
    "        \"12\",\n",
    "        \"13\",\n",
    "        \"14\",\n",
    "        \"15\",\n",
    "        \"16\",\n",
    "        \"17\",\n",
    "        \"18\",\n",
    "        \"19\",\n",
    "        \"20\",\n",
    "        \"21\",\n",
    "        \"22\",\n",
    "        \"23\",\n",
    "        \"24\",\n",
    "        \"25\",\n",
    "        \"26\",\n",
    "        \"27\",\n",
    "        \"28\",\n",
    "        \"29\",\n",
    "    ],\n",
    "    (True, True),\n",
    "    ((True, True), [0, 1, 2, 3], [\"oqc\", \"ionq\", \"ibm\", \"rigetti\"]),\n",
    "    (\n",
    "        (True, True),\n",
    "        ([0, 1, 2, 3], [\"graph\", \"line\"]),\n",
    "        [\"ibm_washington\", \"rigetti_aspen_m1\", \"ionq11\", \"ibm_montreal\", \"oqc_lucy\"],\n",
    "    ),\n",
    ")\n",
    "paths = filterDatabase(criteria, database)"
   ]
  },
  {
   "cell_type": "code",
   "execution_count": 197,
   "id": "4bc63027",
   "metadata": {},
   "outputs": [
    {
     "data": {
      "text/plain": [
       "36044"
      ]
     },
     "execution_count": 197,
     "metadata": {},
     "output_type": "execute_result"
    }
   ],
   "source": [
    "len(paths)"
   ]
  },
  {
   "cell_type": "code",
   "execution_count": 198,
   "id": "9ce284a5",
   "metadata": {},
   "outputs": [
    {
     "name": "stdout",
     "output_type": "stream",
     "text": [
      "(17281, 10) (4038, 10) (21319, 10)\n"
     ]
    }
   ],
   "source": [
    "print(\n",
    "    database.loc[\n",
    "        (database[\"nativegates_flag\"] == True) & (database[\"compiler\"] == \"qiskit\")\n",
    "    ].shape,\n",
    "    database.loc[\n",
    "        (database[\"nativegates_flag\"] == True) & (database[\"compiler\"] == \"tket\")\n",
    "    ].shape,\n",
    "    database.loc[(database[\"nativegates_flag\"] == True)].shape,\n",
    ")"
   ]
  },
  {
   "cell_type": "code",
   "execution_count": 199,
   "id": "eeec38f4",
   "metadata": {},
   "outputs": [
    {
     "name": "stdout",
     "output_type": "stream",
     "text": [
      "17281\n"
     ]
    }
   ],
   "source": [
    "native_gatesets = [\"oqc\", \"ionq\", \"ibm\", \"rigetti\"]\n",
    "native_qiskit_opt_lvls = [0, 1, 2, 3]\n",
    "tmp = 0\n",
    "for gate_set in native_gatesets:\n",
    "    for opt_lvl in native_qiskit_opt_lvls:\n",
    "        db_tmp3 = database.loc[\n",
    "            (database[\"nativegates_flag\"] == True)\n",
    "            & (database[\"gate_set\"] == gate_set)\n",
    "            & (database[\"compiler\"] == \"qiskit\")\n",
    "            & (database[\"compiler_settings\"] == opt_lvl)\n",
    "        ]\n",
    "        tmp += db_tmp3.shape[0]\n",
    "print(tmp)"
   ]
  },
  {
   "cell_type": "code",
   "execution_count": 200,
   "id": "a460063a",
   "metadata": {},
   "outputs": [
    {
     "name": "stdout",
     "output_type": "stream",
     "text": [
      "4038\n"
     ]
    }
   ],
   "source": [
    "native_gatesets = [\"oqc\", \"ionq\", \"ibm\", \"rigetti\"]\n",
    "tmp = 0\n",
    "for gate_set in native_gatesets:\n",
    "    db_tmp3 = database.loc[\n",
    "        (database[\"nativegates_flag\"] == True)\n",
    "        & (database[\"gate_set\"] == gate_set)\n",
    "        & (database[\"compiler\"] == \"tket\")\n",
    "    ]\n",
    "    tmp += db_tmp3.shape[0]\n",
    "print(tmp)"
   ]
  },
  {
   "cell_type": "code",
   "execution_count": 201,
   "id": "e9cdb06a",
   "metadata": {},
   "outputs": [
    {
     "data": {
      "text/plain": [
       "array(['ionq', 'oqc', 'rigetti', 'ibm'], dtype=object)"
      ]
     },
     "execution_count": 201,
     "metadata": {},
     "output_type": "execute_result"
    }
   ],
   "source": [
    "database.loc[\n",
    "    (database[\"nativegates_flag\"] == True) & (database[\"compiler\"] == \"tket\")\n",
    "].gate_set.unique()"
   ]
  },
  {
   "cell_type": "code",
   "execution_count": null,
   "id": "4bf28f41",
   "metadata": {},
   "outputs": [],
   "source": []
  },
  {
   "cell_type": "code",
   "execution_count": 56,
   "id": "e3d103af",
   "metadata": {},
   "outputs": [],
   "source": [
    "from zipfile import ZipFile, ZIP_DEFLATED\n",
    "\n",
    "\n",
    "def create_zip_file():\n",
    "    zf = zipfile.ZipFile(\"MQTBench_all.zip\", \"w\")\n",
    "    for dirname, subdirs, files in os.walk(utils.get_qasm_output_path()):\n",
    "        for filename in files:\n",
    "            zf.write(\n",
    "                os.path.join(dirname, filename),\n",
    "                compress_type=ZIP_DEFLATED,\n",
    "                compresslevel=3,\n",
    "                arcname=filename,\n",
    "            )\n",
    "    zf.close()"
   ]
  },
  {
   "cell_type": "code",
   "execution_count": 57,
   "id": "72c430c7",
   "metadata": {},
   "outputs": [],
   "source": [
    "create_zip_file()"
   ]
  },
  {
   "cell_type": "code",
   "execution_count": null,
   "id": "5198f4f7",
   "metadata": {},
   "outputs": [],
   "source": []
  }
 ],
 "metadata": {
  "kernelspec": {
   "display_name": "Python 3 (ipykernel)",
   "language": "python",
   "name": "python3"
  },
  "language_info": {
   "codemirror_mode": {
    "name": "ipython",
    "version": 3
   },
   "file_extension": ".py",
   "mimetype": "text/x-python",
   "name": "python",
   "nbconvert_exporter": "python",
   "pygments_lexer": "ipython3",
   "version": "3.9.7"
  }
 },
 "nbformat": 4,
 "nbformat_minor": 5
}
