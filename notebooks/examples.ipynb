{
 "cells": [
  {
   "cell_type": "markdown",
   "source": [
    "# MQT Bench Usage via Python Package"
   ],
   "metadata": {
    "collapsed": false
   },
   "id": "a866359da8df0489"
  },
  {
   "cell_type": "code",
   "execution_count": 2,
   "outputs": [],
   "source": [
    "from mqt.bench import get_benchmark, CompilerSettings, QiskitSettings, TKETSettings"
   ],
   "metadata": {
    "collapsed": false,
    "ExecuteTime": {
     "end_time": "2023-11-02T08:37:18.635381Z",
     "start_time": "2023-11-02T08:37:16.517308Z"
    }
   },
   "id": "ef302dc8f33466e4"
  },
  {
   "cell_type": "markdown",
   "source": [
    "## Algorithmic Level"
   ],
   "metadata": {
    "collapsed": false
   },
   "id": "ee984ededf8e10bc"
  },
  {
   "cell_type": "code",
   "execution_count": 3,
   "outputs": [],
   "source": [
    "qc_algorithmic_level = get_benchmark(benchmark_name=\"dj\", level=\"alg\", circuit_size=5)"
   ],
   "metadata": {
    "collapsed": false,
    "ExecuteTime": {
     "end_time": "2023-11-02T08:37:22.216724Z",
     "start_time": "2023-11-02T08:37:22.037887Z"
    }
   },
   "id": "8346993b51294feb"
  },
  {
   "cell_type": "markdown",
   "source": [
    "## Target-independent Level"
   ],
   "metadata": {
    "collapsed": false
   },
   "id": "3edc74a2bf18d67d"
  },
  {
   "cell_type": "code",
   "execution_count": 4,
   "outputs": [],
   "source": [
    "qc_target_independent_level = get_benchmark(benchmark_name=\"dj\", level=\"indep\", circuit_size=5, compiler=\"qiskit\")"
   ],
   "metadata": {
    "collapsed": false,
    "ExecuteTime": {
     "end_time": "2023-11-02T08:37:29.621742Z",
     "start_time": "2023-11-02T08:37:29.600245Z"
    }
   },
   "id": "9482737dacfc40d"
  },
  {
   "cell_type": "markdown",
   "source": [
    "## Target-dependent Native Gates Level"
   ],
   "metadata": {
    "collapsed": false
   },
   "id": "f3c0ae43336dca9b"
  },
  {
   "cell_type": "code",
   "execution_count": 5,
   "outputs": [],
   "source": [
    "compiler_settings = CompilerSettings(qiskit=QiskitSettings(optimization_level=2))\n",
    "qc_native_gates_level = get_benchmark(benchmark_name=\"dj\", level=\"nativegates\", circuit_size=5, compiler=\"qiskit\", compiler_settings=compiler_settings, gate_set_name=\"ionq\")"
   ],
   "metadata": {
    "collapsed": false,
    "ExecuteTime": {
     "end_time": "2023-11-02T08:37:35.967266Z",
     "start_time": "2023-11-02T08:37:35.961339Z"
    }
   },
   "id": "ca5ce053798f36e5"
  },
  {
   "cell_type": "markdown",
   "source": [
    "## Target-dependent Mapped Level"
   ],
   "metadata": {
    "collapsed": false
   },
   "id": "d57921d7884bb4cc"
  },
  {
   "cell_type": "code",
   "execution_count": 6,
   "outputs": [],
   "source": [
    "compiler_settings = CompilerSettings(tket=TKETSettings(placement=\"lineplacement\"))\n",
    "qc_mapped_level = get_benchmark(benchmark_name=\"dj\", level=\"mapped\", circuit_size=5, compiler=\"tket\", compiler_settings=compiler_settings, gate_set_name=\"ionq\", device_name=\"ionq_harmony\")"
   ],
   "metadata": {
    "collapsed": false,
    "ExecuteTime": {
     "end_time": "2023-11-02T08:37:40.537431Z",
     "start_time": "2023-11-02T08:37:40.535753Z"
    }
   },
   "id": "ddb7b07a146a8fd8"
  }
 ],
 "metadata": {
  "kernelspec": {
   "display_name": "Python 3",
   "language": "python",
   "name": "python3"
  },
  "language_info": {
   "codemirror_mode": {
    "name": "ipython",
    "version": 2
   },
   "file_extension": ".py",
   "mimetype": "text/x-python",
   "name": "python",
   "nbconvert_exporter": "python",
   "pygments_lexer": "ipython2",
   "version": "2.7.6"
  }
 },
 "nbformat": 4,
 "nbformat_minor": 5
}
