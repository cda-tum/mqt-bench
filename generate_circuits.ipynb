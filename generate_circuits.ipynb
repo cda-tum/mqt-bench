{
 "cells": [
  {
   "cell_type": "markdown",
   "metadata": {},
   "source": [
    "### Imports"
   ]
  },
  {
   "cell_type": "code",
   "execution_count": 1,
   "metadata": {},
   "outputs": [],
   "source": [
    "import warnings\n",
    "\n",
    "import networkx as nx\n",
    "from qiskit import QuantumCircuit, qpy\n",
    "from qiskit.primitives import Sampler\n",
    "from qiskit_algorithms.minimum_eigensolvers import QAOA\n",
    "from qiskit_algorithms.optimizers import SLSQP\n",
    "from qiskit_optimization.applications import Maxcut\n",
    "\n",
    "warnings.filterwarnings(\"ignore\", category=DeprecationWarning)\n",
    "from pathlib import Path\n",
    "\n",
    "import numpy as np\n",
    "from qiskit import transpile\n",
    "from qiskit.circuit.library import n_local\n",
    "from qiskit_aer import AerSimulator"
   ]
  },
  {
   "cell_type": "markdown",
   "metadata": {},
   "source": [
    "### Helper functions"
   ]
  },
  {
   "cell_type": "code",
   "execution_count": 2,
   "metadata": {},
   "outputs": [],
   "source": [
    "current_dir = Path.cwd()\n",
    "\n",
    "\n",
    "def save_circuit_as_qpy(circuit, save_dir, circuit_name) -> None:\n",
    "    \"\"\"Save a quantum circuit as a QPY file (Qiskit's native format).\"\"\"\n",
    "\n",
    "    # Associate the circuit with its name\n",
    "    circuit.name = circuit_name\n",
    "\n",
    "    # Ensure directory exists\n",
    "    Path(save_dir).mkdir(parents=True, exist_ok=True)\n",
    "    file_path = save_dir / f\"{circuit_name}.qpy\"\n",
    "\n",
    "    # Check if the file already exists\n",
    "    if file_path.exists():\n",
    "        print(f\"File {file_path} already exists.\")\n",
    "        return\n",
    "\n",
    "    # Save file\n",
    "    with Path.open(file_path, \"wb\") as f:\n",
    "        qpy.dump(circuit, f)\n",
    "\n",
    "    # Load file\n",
    "    with Path.open(file_path, \"rb\") as f:\n",
    "        qpy.load(f)\n",
    "\n",
    "    print(f\"Circuit saved to {file_path}\")"
   ]
  },
  {
   "cell_type": "code",
   "execution_count": 25,
   "metadata": {},
   "outputs": [],
   "source": [
    "def generate_mirror_circuit(circ):\n",
    "    \"\"\"Mirror a quantum circuit along the horizontal axis.\"\"\"\n",
    "    copy_circ = circ.copy()\n",
    "    copy_circ.remove_final_measurements()\n",
    "\n",
    "    inverse_circ = copy_circ.inverse()\n",
    "\n",
    "    mirror_cic = QuantumCircuit.compose(copy_circ, inverse_circ)\n",
    "    mirror_cic.measure_active()\n",
    "\n",
    "    mirror_cic.name = f\"mirror_{circ.name}\"\n",
    "    return mirror_cic"
   ]
  },
  {
   "cell_type": "markdown",
   "metadata": {},
   "source": [
    "### Circuit generator functions"
   ]
  },
  {
   "cell_type": "code",
   "execution_count": 3,
   "metadata": {},
   "outputs": [],
   "source": [
    "def generate_qnn_circuits(\n",
    "        max_qubits=5, max_depth=10, seed=42, single_qubit_gates=None, multi_qubit_gates=None, mirror_circuit=False\n",
    "    ) -> None:\n",
    "    \"\"\"Generate QNN circuits with a given number of qubits and depth.\"\"\"\n",
    "\n",
    "    if multi_qubit_gates is None:\n",
    "        multi_qubit_gates = [\"cx\"]\n",
    "    if single_qubit_gates is None:\n",
    "        single_qubit_gates = [\"sx\", \"ry\"]\n",
    "    reached_max_depth, n_layers = False, 0\n",
    "    for n_qubits in range(2, max_qubits + 1):\n",
    "        for entanglement in [\"full\", \"linear\", \"sca\", \"reverse_linear\", \"circular\", \"pairwise\"]:\n",
    "            while not reached_max_depth:\n",
    "                n_layers += 1\n",
    "\n",
    "                circ_name = f\"twolocal_{n_qubits}qubits_{n_layers}layers_{entanglement}_entanglement\"\n",
    "\n",
    "                # Create circuit\n",
    "                circ = n_local(\n",
    "                    num_qubits=n_qubits,\n",
    "                    rotation_blocks=single_qubit_gates,\n",
    "                    entanglement_blocks=multi_qubit_gates,\n",
    "                    entanglement=entanglement,\n",
    "                    reps=n_layers,\n",
    "                    parameter_prefix=\"θ\",\n",
    "                    insert_barriers=False,\n",
    "                    overwrite_block_parameters=True,\n",
    "                    skip_final_rotation_layer=False,\n",
    "                    skip_unentangled_qubits=False,\n",
    "                    name=circ_name,\n",
    "                )\n",
    "                # Add final measurements\n",
    "                circ.measure_all()\n",
    "\n",
    "                if circ.depth() > max_depth:\n",
    "                    reached_max_depth = True\n",
    "                    break\n",
    "\n",
    "                # Set random parameters to the rotation gates\n",
    "                rng = np.random.default_rng(seed)\n",
    "                param_values = rng.uniform(0, 2 * np.pi, size=len(circ.parameters))\n",
    "                param_dict = dict(zip(circ.parameters, param_values, strict=False))\n",
    "                circ = circ.assign_parameters(param_dict)\n",
    "\n",
    "                # Generate mirror circuit if requested\n",
    "                if mirror_circuit:\n",
    "                    circ = generate_mirror_circuit(circ)\n",
    "                    circ_name = f\"{circ_name}_mirror\"\n",
    "\n",
    "                # Save the circuit\n",
    "                save_circuit_as_qpy(circ, current_dir / \"qnn_circuits\", circ_name)\n",
    "\n",
    "            # Reset the flag and layers counter\n",
    "            reached_max_depth, n_layers = False, 0"
   ]
  },
  {
   "cell_type": "code",
   "execution_count": 4,
   "metadata": {},
   "outputs": [],
   "source": [
    "def generate_qaoa_circuits(\n",
    "    max_qubits=5, max_depth=50, seed=42, single_qubit_gates=None, multi_qubit_gates=None, mirror_circuit=False\n",
    ") -> None:\n",
    "    \"\"\"Generate QAOA circuits for MaxCut problems.\"\"\"\n",
    "\n",
    "    if multi_qubit_gates is None:\n",
    "        multi_qubit_gates = [\"cx\"]\n",
    "    if single_qubit_gates is None:\n",
    "        single_qubit_gates = [\"sx\", \"ry\"]\n",
    "    reached_max_depth, n_layers = False, 0\n",
    "    for n_qubits in range(2, max_qubits + 1):  # Number of nodes aka qubits\n",
    "        for degree in range(2, n_qubits):  # This changes the problem Hamiltonian (and its solution)\n",
    "            if (n_qubits * degree) % 2:\n",
    "                continue  # must be even\n",
    "\n",
    "            while reached_max_depth is False:\n",
    "                n_layers += 1\n",
    "\n",
    "                circ_name = f\"qaoa_{n_qubits}qubits_{n_layers}layers_{degree}degree\"\n",
    "\n",
    "                # Generate a random regular graph for MaxCut\n",
    "                graph = nx.random_regular_graph(d=degree, n=n_qubits, seed=seed)\n",
    "                maxcut = Maxcut(graph)\n",
    "\n",
    "                mixer_circle = QuantumCircuit(n_qubits)\n",
    "                mixer_circle.sx(range(n_qubits))\n",
    "\n",
    "                # Create QAOA solver\n",
    "                qaoa = QAOA(sampler=Sampler(), reps=n_layers, optimizer=SLSQP(maxiter=25))\n",
    "\n",
    "                # Compute minimum eigenvalue for the MaxCut Ising model\n",
    "                ising_op, _offset = maxcut.to_quadratic_program().to_ising()\n",
    "                qaoa_result = qaoa.compute_minimum_eigenvalue(operator=ising_op)\n",
    "\n",
    "                # Create the QAOA ansatz circuit and assign optimal parameters -> get actual results when running the circuit\n",
    "                qaoa_circuit = qaoa.ansatz.assign_parameters(qaoa_result.optimal_point)\n",
    "\n",
    "                transpiled_circuit = transpile(\n",
    "                    qaoa_circuit, optimization_level=3, basis_gates=single_qubit_gates + multi_qubit_gates\n",
    "                )\n",
    "\n",
    "                # Skip circuits exceeding the maximum depth\n",
    "                if transpiled_circuit.depth() > max_depth:\n",
    "                    reached_max_depth = True\n",
    "                    break\n",
    "\n",
    "                # Generate mirror circuit if requested\n",
    "                if mirror_circuit:\n",
    "                    transpiled_circuit = generate_mirror_circuit(transpiled_circuit)\n",
    "                    circ_name = f\"{circ_name}_mirror\"\n",
    "\n",
    "                # Save circuit as QPY file\n",
    "                save_circuit_as_qpy(transpiled_circuit, current_dir / \"qaoa_circuits\", circ_name)\n",
    "\n",
    "            # Reset the flag and layers counter\n",
    "            reached_max_depth, n_layers = False, 0"
   ]
  },
  {
   "cell_type": "markdown",
   "metadata": {},
   "source": [
    "### Setup"
   ]
  },
  {
   "cell_type": "code",
   "execution_count": 6,
   "metadata": {},
   "outputs": [],
   "source": [
    "# For reproducibility\n",
    "seed = 111\n",
    "\n",
    "# QPU (or simulation) limits\n",
    "max_qubits = 5\n",
    "max_depth = 20\n",
    "\n",
    "# Native gates (currelty: FakeToronto)\n",
    "single_qubit_gates = [\"rz\", \"sx\", \"x\"]\n",
    "multi_qubit_gates = [\"cx\"]"
   ]
  },
  {
   "cell_type": "markdown",
   "metadata": {},
   "source": [
    "### Generation"
   ]
  },
  {
   "cell_type": "code",
   "execution_count": 8,
   "metadata": {},
   "outputs": [
    {
     "ename": "CircuitError",
     "evalue": "\"Incorrect bit type: expected 'Clbit' but got 'Qubit'\"",
     "output_type": "error",
     "traceback": [
      "\u001b[0;31m---------------------------------------------------------------------------\u001b[0m",
      "\u001b[0;31mTypeError\u001b[0m                                 Traceback (most recent call last)",
      "File \u001b[0;32m~/Code/mqt/mqt-bench/.venv/lib/python3.12/site-packages/qiskit/circuit/quantumcircuit.py:6770\u001b[0m, in \u001b[0;36m_bit_argument_conversion\u001b[0;34m(specifier, bit_sequence, bit_set, type_)\u001b[0m\n\u001b[1;32m   6767\u001b[0m \u001b[38;5;28;01mtry\u001b[39;00m:\n\u001b[1;32m   6768\u001b[0m     \u001b[38;5;28;01mreturn\u001b[39;00m [\n\u001b[1;32m   6769\u001b[0m         _bit_argument_conversion_scalar(index, bit_sequence, bit_set, type_)\n\u001b[0;32m-> 6770\u001b[0m         \u001b[38;5;28;01mfor\u001b[39;00m index \u001b[38;5;129;01min\u001b[39;00m specifier\n\u001b[1;32m   6771\u001b[0m     ]\n\u001b[1;32m   6772\u001b[0m \u001b[38;5;28;01mexcept\u001b[39;00m \u001b[38;5;167;01mTypeError\u001b[39;00m \u001b[38;5;28;01mas\u001b[39;00m ex:\n",
      "\u001b[0;31mTypeError\u001b[0m: 'Qubit' object is not iterable",
      "\nThe above exception was the direct cause of the following exception:\n",
      "\u001b[0;31mCircuitError\u001b[0m                              Traceback (most recent call last)",
      "Cell \u001b[0;32mIn[8], line 6\u001b[0m\n\u001b[1;32m      4\u001b[0m circ\u001b[38;5;241m.\u001b[39mcx(\u001b[38;5;241m1\u001b[39m,\u001b[38;5;241m2\u001b[39m)\n\u001b[1;32m      5\u001b[0m circ\u001b[38;5;241m.\u001b[39mmeasure_all()\n\u001b[0;32m----> 6\u001b[0m \u001b[43mmirror_circuit\u001b[49m\u001b[43m(\u001b[49m\u001b[43mcirc\u001b[49m\u001b[43m)\u001b[49m\n\u001b[1;32m      8\u001b[0m generate_qnn_circuits(max_qubits, max_depth, seed, single_qubit_gates, multi_qubit_gates)\n\u001b[1;32m      9\u001b[0m generate_qaoa_circuits(max_qubits, max_depth, seed, single_qubit_gates, multi_qubit_gates)\n",
      "Cell \u001b[0;32mIn[5], line 6\u001b[0m, in \u001b[0;36mmirror_circuit\u001b[0;34m(circ)\u001b[0m\n\u001b[1;32m      4\u001b[0m \u001b[38;5;28;01mfor\u001b[39;00m instr, qargs, cargs \u001b[38;5;129;01min\u001b[39;00m circ\u001b[38;5;241m.\u001b[39mdata:\n\u001b[1;32m      5\u001b[0m     \u001b[38;5;28;01mif\u001b[39;00m instr\u001b[38;5;241m.\u001b[39mname \u001b[38;5;241m==\u001b[39m \u001b[38;5;124m\"\u001b[39m\u001b[38;5;124mmeasure\u001b[39m\u001b[38;5;124m\"\u001b[39m:\n\u001b[0;32m----> 6\u001b[0m         \u001b[43mcirc_mirror\u001b[49m\u001b[38;5;241;43m.\u001b[39;49m\u001b[43mmeasure\u001b[49m\u001b[43m(\u001b[49m\u001b[43mqargs\u001b[49m\u001b[43m[\u001b[49m\u001b[38;5;241;43m0\u001b[39;49m\u001b[43m]\u001b[49m\u001b[43m,\u001b[49m\u001b[43m \u001b[49m\u001b[43mqargs\u001b[49m\u001b[43m[\u001b[49m\u001b[38;5;241;43m0\u001b[39;49m\u001b[43m]\u001b[49m\u001b[43m)\u001b[49m\n\u001b[1;32m      7\u001b[0m     \u001b[38;5;28;01melse\u001b[39;00m:\n\u001b[1;32m      8\u001b[0m         circ_mirror\u001b[38;5;241m.\u001b[39mappend(instr, qargs[::\u001b[38;5;241m-\u001b[39m\u001b[38;5;241m1\u001b[39m])\n",
      "File \u001b[0;32m~/Code/mqt/mqt-bench/.venv/lib/python3.12/site-packages/qiskit/circuit/quantumcircuit.py:3923\u001b[0m, in \u001b[0;36mQuantumCircuit.measure\u001b[0;34m(self, qubit, cbit)\u001b[0m\n\u001b[1;32m   3849\u001b[0m \u001b[38;5;250m\u001b[39m\u001b[38;5;124mr\u001b[39m\u001b[38;5;124;03m\"\"\"Measure a quantum bit (``qubit``) in the Z basis into a classical bit (``cbit``).\u001b[39;00m\n\u001b[1;32m   3850\u001b[0m \n\u001b[1;32m   3851\u001b[0m \u001b[38;5;124;03mWhen a quantum state is measured, a qubit is projected in the computational (Pauli Z) basis\u001b[39;00m\n\u001b[0;32m   (...)\u001b[0m\n\u001b[1;32m   3919\u001b[0m \n\u001b[1;32m   3920\u001b[0m \u001b[38;5;124;03m\"\"\"\u001b[39;00m\n\u001b[1;32m   3921\u001b[0m \u001b[38;5;28;01mfrom\u001b[39;00m \u001b[38;5;21;01m.\u001b[39;00m\u001b[38;5;21;01mmeasure\u001b[39;00m \u001b[38;5;28;01mimport\u001b[39;00m Measure\n\u001b[0;32m-> 3923\u001b[0m \u001b[38;5;28;01mreturn\u001b[39;00m \u001b[38;5;28;43mself\u001b[39;49m\u001b[38;5;241;43m.\u001b[39;49m\u001b[43mappend\u001b[49m\u001b[43m(\u001b[49m\u001b[43mMeasure\u001b[49m\u001b[43m(\u001b[49m\u001b[43m)\u001b[49m\u001b[43m,\u001b[49m\u001b[43m \u001b[49m\u001b[43m[\u001b[49m\u001b[43mqubit\u001b[49m\u001b[43m]\u001b[49m\u001b[43m,\u001b[49m\u001b[43m \u001b[49m\u001b[43m[\u001b[49m\u001b[43mcbit\u001b[49m\u001b[43m]\u001b[49m\u001b[43m,\u001b[49m\u001b[43m \u001b[49m\u001b[43mcopy\u001b[49m\u001b[38;5;241;43m=\u001b[39;49m\u001b[38;5;28;43;01mFalse\u001b[39;49;00m\u001b[43m)\u001b[49m\n",
      "File \u001b[0;32m~/Code/mqt/mqt-bench/.venv/lib/python3.12/site-packages/qiskit/circuit/quantumcircuit.py:2561\u001b[0m, in \u001b[0;36mQuantumCircuit.append\u001b[0;34m(self, instruction, qargs, cargs, copy)\u001b[0m\n\u001b[1;32m   2555\u001b[0m         \u001b[38;5;28;01mraise\u001b[39;00m CircuitError(\n\u001b[1;32m   2556\u001b[0m             \u001b[38;5;124mf\u001b[39m\u001b[38;5;124m\"\u001b[39m\u001b[38;5;124mControl-flow op attempts to capture \u001b[39m\u001b[38;5;124m'\u001b[39m\u001b[38;5;132;01m{\u001b[39;00mbad_captures\u001b[38;5;132;01m}\u001b[39;00m\u001b[38;5;124m'\u001b[39m\u001b[38;5;124m\"\u001b[39m\n\u001b[1;32m   2557\u001b[0m             \u001b[38;5;124m\"\u001b[39m\u001b[38;5;124m which are not in this circuit\u001b[39m\u001b[38;5;124m\"\u001b[39m\n\u001b[1;32m   2558\u001b[0m         )\n\u001b[1;32m   2560\u001b[0m expanded_qargs \u001b[38;5;241m=\u001b[39m [\u001b[38;5;28mself\u001b[39m\u001b[38;5;241m.\u001b[39m_qbit_argument_conversion(qarg) \u001b[38;5;28;01mfor\u001b[39;00m qarg \u001b[38;5;129;01min\u001b[39;00m qargs \u001b[38;5;129;01mor\u001b[39;00m []]\n\u001b[0;32m-> 2561\u001b[0m expanded_cargs \u001b[38;5;241m=\u001b[39m [\u001b[38;5;28;43mself\u001b[39;49m\u001b[38;5;241;43m.\u001b[39;49m\u001b[43m_cbit_argument_conversion\u001b[49m\u001b[43m(\u001b[49m\u001b[43mcarg\u001b[49m\u001b[43m)\u001b[49m \u001b[38;5;28;01mfor\u001b[39;00m carg \u001b[38;5;129;01min\u001b[39;00m cargs \u001b[38;5;129;01mor\u001b[39;00m []]\n\u001b[1;32m   2563\u001b[0m instructions \u001b[38;5;241m=\u001b[39m InstructionSet(resource_requester\u001b[38;5;241m=\u001b[39mcircuit_scope\u001b[38;5;241m.\u001b[39mresolve_classical_resource)\n\u001b[1;32m   2564\u001b[0m \u001b[38;5;66;03m# For Operations that are non-Instructions, we use the Instruction's default method\u001b[39;00m\n",
      "File \u001b[0;32m~/Code/mqt/mqt-bench/.venv/lib/python3.12/site-packages/qiskit/circuit/quantumcircuit.py:2444\u001b[0m, in \u001b[0;36mQuantumCircuit._cbit_argument_conversion\u001b[0;34m(self, clbit_representation)\u001b[0m\n\u001b[1;32m   2433\u001b[0m \u001b[38;5;28;01mdef\u001b[39;00m \u001b[38;5;21m_cbit_argument_conversion\u001b[39m(\u001b[38;5;28mself\u001b[39m, clbit_representation: ClbitSpecifier) \u001b[38;5;241m-\u001b[39m\u001b[38;5;241m>\u001b[39m \u001b[38;5;28mlist\u001b[39m[Clbit]:\n\u001b[1;32m   2434\u001b[0m \u001b[38;5;250m    \u001b[39m\u001b[38;5;124;03m\"\"\"\u001b[39;00m\n\u001b[1;32m   2435\u001b[0m \u001b[38;5;124;03m    Converts several classical bit representations (such as indexes, range, etc.)\u001b[39;00m\n\u001b[1;32m   2436\u001b[0m \u001b[38;5;124;03m    into a list of classical bits.\u001b[39;00m\n\u001b[0;32m   (...)\u001b[0m\n\u001b[1;32m   2442\u001b[0m \u001b[38;5;124;03m        A list of tuples where each tuple is a classical bit.\u001b[39;00m\n\u001b[1;32m   2443\u001b[0m \u001b[38;5;124;03m    \"\"\"\u001b[39;00m\n\u001b[0;32m-> 2444\u001b[0m     \u001b[38;5;28;01mreturn\u001b[39;00m \u001b[43m_bit_argument_conversion\u001b[49m\u001b[43m(\u001b[49m\n\u001b[1;32m   2445\u001b[0m \u001b[43m        \u001b[49m\u001b[43mclbit_representation\u001b[49m\u001b[43m,\u001b[49m\u001b[43m \u001b[49m\u001b[38;5;28;43mself\u001b[39;49m\u001b[38;5;241;43m.\u001b[39;49m\u001b[43mclbits\u001b[49m\u001b[43m,\u001b[49m\u001b[43m \u001b[49m\u001b[38;5;28;43mself\u001b[39;49m\u001b[38;5;241;43m.\u001b[39;49m\u001b[43m_clbit_indices\u001b[49m\u001b[43m,\u001b[49m\u001b[43m \u001b[49m\u001b[43mClbit\u001b[49m\n\u001b[1;32m   2446\u001b[0m \u001b[43m    \u001b[49m\u001b[43m)\u001b[49m\n",
      "File \u001b[0;32m~/Code/mqt/mqt-bench/.venv/lib/python3.12/site-packages/qiskit/circuit/quantumcircuit.py:6778\u001b[0m, in \u001b[0;36m_bit_argument_conversion\u001b[0;34m(specifier, bit_sequence, bit_set, type_)\u001b[0m\n\u001b[1;32m   6772\u001b[0m \u001b[38;5;28;01mexcept\u001b[39;00m \u001b[38;5;167;01mTypeError\u001b[39;00m \u001b[38;5;28;01mas\u001b[39;00m ex:\n\u001b[1;32m   6773\u001b[0m     message \u001b[38;5;241m=\u001b[39m (\n\u001b[1;32m   6774\u001b[0m         \u001b[38;5;124mf\u001b[39m\u001b[38;5;124m\"\u001b[39m\u001b[38;5;124mIncorrect bit type: expected \u001b[39m\u001b[38;5;124m'\u001b[39m\u001b[38;5;132;01m{\u001b[39;00mtype_\u001b[38;5;241m.\u001b[39m\u001b[38;5;18m__name__\u001b[39m\u001b[38;5;132;01m}\u001b[39;00m\u001b[38;5;124m'\u001b[39m\u001b[38;5;124m but got \u001b[39m\u001b[38;5;124m'\u001b[39m\u001b[38;5;132;01m{\u001b[39;00m\u001b[38;5;28mtype\u001b[39m(specifier)\u001b[38;5;241m.\u001b[39m\u001b[38;5;18m__name__\u001b[39m\u001b[38;5;132;01m}\u001b[39;00m\u001b[38;5;124m'\u001b[39m\u001b[38;5;124m\"\u001b[39m\n\u001b[1;32m   6775\u001b[0m         \u001b[38;5;28;01mif\u001b[39;00m \u001b[38;5;28misinstance\u001b[39m(specifier, Bit)\n\u001b[1;32m   6776\u001b[0m         \u001b[38;5;28;01melse\u001b[39;00m \u001b[38;5;124mf\u001b[39m\u001b[38;5;124m\"\u001b[39m\u001b[38;5;124mInvalid bit index: \u001b[39m\u001b[38;5;124m'\u001b[39m\u001b[38;5;132;01m{\u001b[39;00mspecifier\u001b[38;5;132;01m}\u001b[39;00m\u001b[38;5;124m'\u001b[39m\u001b[38;5;124m of type \u001b[39m\u001b[38;5;124m'\u001b[39m\u001b[38;5;132;01m{\u001b[39;00m\u001b[38;5;28mtype\u001b[39m(specifier)\u001b[38;5;132;01m}\u001b[39;00m\u001b[38;5;124m'\u001b[39m\u001b[38;5;124m\"\u001b[39m\n\u001b[1;32m   6777\u001b[0m     )\n\u001b[0;32m-> 6778\u001b[0m     \u001b[38;5;28;01mraise\u001b[39;00m CircuitError(message) \u001b[38;5;28;01mfrom\u001b[39;00m \u001b[38;5;21;01mex\u001b[39;00m\n",
      "\u001b[0;31mCircuitError\u001b[0m: \"Incorrect bit type: expected 'Clbit' but got 'Qubit'\""
     ]
    }
   ],
   "source": [
    "generate_qnn_circuits(max_qubits, max_depth, seed, single_qubit_gates, multi_qubit_gates)\n",
    "generate_qaoa_circuits(max_qubits, max_depth, seed, single_qubit_gates, multi_qubit_gates)"
   ]
  },
  {
   "cell_type": "markdown",
   "metadata": {},
   "source": [
    "### Verification"
   ]
  },
  {
   "cell_type": "code",
   "execution_count": 212,
   "metadata": {},
   "outputs": [],
   "source": [
    "# Helper function\n",
    "def simulate_circuit(circuit: QuantumCircuit) -> None:\n",
    "    \"\"\"Simulate a quantum circuit noiselessly using statevector simulation.\"\"\"\n",
    "\n",
    "    simulator = AerSimulator()\n",
    "\n",
    "    # Transpile the circuit for the simulator\n",
    "    transpiled_circuit = transpile(circuit, simulator)\n",
    "\n",
    "    # Run the simulation\n",
    "    result = simulator.run(transpiled_circuit).result()\n",
    "\n",
    "    # Get measurement results if circuit has measurements\n",
    "    if circuit.num_clbits > 0:\n",
    "        counts = result.get_counts()\n",
    "        print(\"Measurement Results:\", counts)"
   ]
  },
  {
   "cell_type": "code",
   "execution_count": 213,
   "metadata": {},
   "outputs": [
    {
     "name": "stdout",
     "output_type": "stream",
     "text": [
      "Measurement Results: {'001': 162, '110': 167, '100': 180, '101': 171, '011': 182, '010': 162}\n"
     ]
    },
    {
     "data": {
      "text/html": [
       "<pre style=\"word-wrap: normal;white-space: pre;background: #fff0;line-height: 1.1;font-family: &quot;Courier New&quot;,Courier,monospace\">global phase: 3π/4\n",
       "        ┌─────────┐┌────┐ ┌───────┐                                            »\n",
       "   q_0: ┤ Rz(π/2) ├┤ √X ├─┤ Rz(π) ├───■──────────────────■────■────────────────»\n",
       "        ├─────────┤├────┤┌┴───────┴┐┌─┴─┐┌────────────┐┌─┴─┐  │                »\n",
       "   q_1: ┤ Rz(π/2) ├┤ √X ├┤ Rz(π/2) ├┤ X ├┤ Rz(5.6677) ├┤ X ├──┼────────────────»\n",
       "        ├─────────┤├────┤├─────────┤└───┘└────────────┘└───┘┌─┴─┐┌────────────┐»\n",
       "   q_2: ┤ Rz(π/2) ├┤ √X ├┤ Rz(π/2) ├────────────────────────┤ X ├┤ Rz(5.6677) ├»\n",
       "        └─────────┘└────┘└─────────┘                        └───┘└────────────┘»\n",
       "meas: 3/═══════════════════════════════════════════════════════════════════════»\n",
       "                                                                               »\n",
       "«             ┌────┐┌─────────────┐┌────┐┌──────────┐                     »\n",
       "«   q_0: ──■──┤ √X ├┤ Rz(-11.951) ├┤ √X ├┤ Rz(5π/2) ├─────────────────────»\n",
       "«          │  └────┘└─────────────┘└────┘├─────────┬┘┌────┐┌─────────────┐»\n",
       "«   q_1: ──┼────■────────────────────■───┤ Rz(π/2) ├─┤ √X ├┤ Rz(-11.951) ├»\n",
       "«        ┌─┴─┐┌─┴─┐  ┌────────────┐┌─┴─┐ ├─────────┤ ├────┤├─────────────┤»\n",
       "«   q_2: ┤ X ├┤ X ├──┤ Rz(5.6677) ├┤ X ├─┤ Rz(π/2) ├─┤ √X ├┤ Rz(-11.951) ├»\n",
       "«        └───┘└───┘  └────────────┘└───┘ └─────────┘ └────┘└─────────────┘»\n",
       "«meas: 3/═════════════════════════════════════════════════════════════════»\n",
       "«                                                                         »\n",
       "«                           ░ ┌─┐      \n",
       "«   q_0: ───────────────────░─┤M├──────\n",
       "«        ┌────┐┌──────────┐ ░ └╥┘┌─┐   \n",
       "«   q_1: ┤ √X ├┤ Rz(5π/2) ├─░──╫─┤M├───\n",
       "«        ├────┤├──────────┤ ░  ║ └╥┘┌─┐\n",
       "«   q_2: ┤ √X ├┤ Rz(5π/2) ├─░──╫──╫─┤M├\n",
       "«        └────┘└──────────┘ ░  ║  ║ └╥┘\n",
       "«meas: 3/══════════════════════╩══╩══╩═\n",
       "«                              0  1  2 </pre>"
      ],
      "text/plain": [
       "global phase: 3π/4\n",
       "        ┌─────────┐┌────┐ ┌───────┐                                            »\n",
       "   q_0: ┤ Rz(π/2) ├┤ √X ├─┤ Rz(π) ├───■──────────────────■────■────────────────»\n",
       "        ├─────────┤├────┤┌┴───────┴┐┌─┴─┐┌────────────┐┌─┴─┐  │                »\n",
       "   q_1: ┤ Rz(π/2) ├┤ √X ├┤ Rz(π/2) ├┤ X ├┤ Rz(5.6677) ├┤ X ├──┼────────────────»\n",
       "        ├─────────┤├────┤├─────────┤└───┘└────────────┘└───┘┌─┴─┐┌────────────┐»\n",
       "   q_2: ┤ Rz(π/2) ├┤ √X ├┤ Rz(π/2) ├────────────────────────┤ X ├┤ Rz(5.6677) ├»\n",
       "        └─────────┘└────┘└─────────┘                        └───┘└────────────┘»\n",
       "meas: 3/═══════════════════════════════════════════════════════════════════════»\n",
       "                                                                               »\n",
       "«             ┌────┐┌─────────────┐┌────┐┌──────────┐                     »\n",
       "«   q_0: ──■──┤ √X ├┤ Rz(-11.951) ├┤ √X ├┤ Rz(5π/2) ├─────────────────────»\n",
       "«          │  └────┘└─────────────┘└────┘├─────────┬┘┌────┐┌─────────────┐»\n",
       "«   q_1: ──┼────■────────────────────■───┤ Rz(π/2) ├─┤ √X ├┤ Rz(-11.951) ├»\n",
       "«        ┌─┴─┐┌─┴─┐  ┌────────────┐┌─┴─┐ ├─────────┤ ├────┤├─────────────┤»\n",
       "«   q_2: ┤ X ├┤ X ├──┤ Rz(5.6677) ├┤ X ├─┤ Rz(π/2) ├─┤ √X ├┤ Rz(-11.951) ├»\n",
       "«        └───┘└───┘  └────────────┘└───┘ └─────────┘ └────┘└─────────────┘»\n",
       "«meas: 3/═════════════════════════════════════════════════════════════════»\n",
       "«                                                                         »\n",
       "«                           ░ ┌─┐      \n",
       "«   q_0: ───────────────────░─┤M├──────\n",
       "«        ┌────┐┌──────────┐ ░ └╥┘┌─┐   \n",
       "«   q_1: ┤ √X ├┤ Rz(5π/2) ├─░──╫─┤M├───\n",
       "«        ├────┤├──────────┤ ░  ║ └╥┘┌─┐\n",
       "«   q_2: ┤ √X ├┤ Rz(5π/2) ├─░──╫──╫─┤M├\n",
       "«        └────┘└──────────┘ ░  ║  ║ └╥┘\n",
       "«meas: 3/══════════════════════╩══╩══╩═\n",
       "«                              0  1  2 "
      ]
     },
     "execution_count": 213,
     "metadata": {},
     "output_type": "execute_result"
    }
   ],
   "source": [
    "circuit_name = \"qaoa_3qubits_1layers_2degree\"\n",
    "\n",
    "with Path.open(current_dir / \"qaoa_circuits\" / f\"{circuit_name}.qpy\", \"rb\") as f:\n",
    "    circ = qpy.load(f)[0]\n",
    "\n",
    "simulate_circuit(circ)\n",
    "circ.draw()"
   ]
  }
 ],
 "metadata": {
  "kernelspec": {
   "display_name": ".venv",
   "language": "python",
   "name": "python3"
  },
  "language_info": {
   "codemirror_mode": {
    "name": "ipython",
    "version": 3
   },
   "file_extension": ".py",
   "mimetype": "text/x-python",
   "name": "python",
   "nbconvert_exporter": "python",
   "pygments_lexer": "ipython3",
   "version": "3.12.6"
  }
 },
 "nbformat": 4,
 "nbformat_minor": 2
}
