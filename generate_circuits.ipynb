{
 "cells": [
  {
   "cell_type": "markdown",
   "metadata": {},
   "source": [
    "### Imports"
   ]
  },
  {
   "cell_type": "code",
   "execution_count": null,
   "metadata": {},
   "outputs": [],
   "source": [
    "import warnings\n",
    "\n",
    "import networkx as nx\n",
    "from qiskit import QuantumCircuit, qpy\n",
    "from qiskit.primitives import Sampler\n",
    "from qiskit_algorithms.minimum_eigensolvers import QAOA\n",
    "from qiskit_algorithms.optimizers import SLSQP\n",
    "from qiskit_optimization.applications import Maxcut\n",
    "\n",
    "warnings.filterwarnings(\"ignore\", category=DeprecationWarning)\n",
    "from pathlib import Path\n",
    "\n",
    "import numpy as np\n",
    "from qiskit import transpile\n",
    "from qiskit.circuit.library import n_local\n",
    "from qiskit_aer import AerSimulator"
   ]
  },
  {
   "cell_type": "markdown",
   "metadata": {},
   "source": [
    "### Helper functions"
   ]
  },
  {
   "cell_type": "code",
   "execution_count": null,
   "metadata": {},
   "outputs": [],
   "source": [
    "current_dir = Path.cwd()\n",
    "\n",
    "\n",
    "def save_circuit_as_qpy(circuit, save_dir, circuit_name) -> None:\n",
    "    \"\"\"Save a quantum circuit as a QPY file (Qiskit's native format).\"\"\"\n",
    "\n",
    "    # Associate the circuit with its name\n",
    "    circuit.name = circuit_name\n",
    "\n",
    "    # Ensure directory exists\n",
    "    Path(save_dir).mkdir(parents=True, exist_ok=True)\n",
    "    file_path = save_dir / f\"{circuit_name}.qpy\"\n",
    "\n",
    "    # Check if the file already exists\n",
    "    if file_path.exists():\n",
    "        print(f\"File {file_path} already exists.\")\n",
    "        return\n",
    "\n",
    "    # Save file\n",
    "    with Path.open(file_path, \"wb\") as f:\n",
    "        qpy.dump(circuit, f)\n",
    "\n",
    "    # Load file\n",
    "    with Path.open(file_path, \"rb\") as f:\n",
    "        qpy.load(f)\n",
    "\n",
    "    print(f\"Circuit saved to {file_path}\")"
   ]
  },
  {
   "cell_type": "markdown",
   "metadata": {},
   "source": [
    "### Circuit generator functions"
   ]
  },
  {
   "cell_type": "code",
   "execution_count": null,
   "metadata": {},
   "outputs": [],
   "source": [
    "def generate_qnn_circuits(max_qubits=5, max_depth=10, seed=42, single_qubit_gates=None, multi_qubit_gates=None) -> None:\n",
    "    \"\"\"Generate QNN circuits with a given number of qubits and depth.\"\"\"\n",
    "\n",
    "    if multi_qubit_gates is None:\n",
    "        multi_qubit_gates = [\"cx\"]\n",
    "    if single_qubit_gates is None:\n",
    "        single_qubit_gates = [\"sx\", \"ry\"]\n",
    "    reached_max_depth, n_layers = False, 0\n",
    "    for n_qubits in range(2, max_qubits + 1):\n",
    "        for entanglement in [\"full\", \"linear\", \"sca\", \"reverse_linear\", \"circular\", \"pairwise\"]:\n",
    "            while not reached_max_depth:\n",
    "                n_layers += 1\n",
    "\n",
    "                circ_name = f\"twolocal_{n_qubits}qubits_{n_layers}layers_{entanglement}_entanglement\"\n",
    "\n",
    "                # Create circuit\n",
    "                circ = n_local(\n",
    "                    num_qubits=n_qubits,\n",
    "                    rotation_blocks=single_qubit_gates,\n",
    "                    entanglement_blocks=multi_qubit_gates,\n",
    "                    entanglement=entanglement,\n",
    "                    reps=n_layers,\n",
    "                    parameter_prefix=\"θ\",\n",
    "                    insert_barriers=False,\n",
    "                    overwrite_block_parameters=True,\n",
    "                    skip_final_rotation_layer=False,\n",
    "                    skip_unentangled_qubits=False,\n",
    "                    name=circ_name,\n",
    "                )\n",
    "                # Add final measurements\n",
    "                circ.measure_all()\n",
    "\n",
    "                if circ.depth() > max_depth:\n",
    "                    reached_max_depth = True\n",
    "                    break\n",
    "\n",
    "                # Set random parameters to the rotation gates\n",
    "                rng = np.random.default_rng(seed)\n",
    "                param_values = rng.uniform(0, 2 * np.pi, size=len(circ.parameters))\n",
    "                param_dict = dict(zip(circ.parameters, param_values, strict=False))\n",
    "                circ = circ.assign_parameters(param_dict)\n",
    "\n",
    "                # Save the circuit\n",
    "                save_circuit_as_qpy(circ, current_dir / \"qnn_circuits\", circ_name)\n",
    "\n",
    "            # Reset the flag and layers counter\n",
    "            reached_max_depth, n_layers = False, 0"
   ]
  },
  {
   "cell_type": "code",
   "execution_count": null,
   "metadata": {},
   "outputs": [],
   "source": [
    "def generate_qaoa_circuits(\n",
    "    max_qubits=5, max_depth=50, seed=42, single_qubit_gates=None, multi_qubit_gates=None\n",
    ") -> None:\n",
    "    \"\"\"Generate QAOA circuits for MaxCut problems.\"\"\"\n",
    "\n",
    "    if multi_qubit_gates is None:\n",
    "        multi_qubit_gates = [\"cx\"]\n",
    "    if single_qubit_gates is None:\n",
    "        single_qubit_gates = [\"sx\", \"ry\"]\n",
    "    reached_max_depth, n_layers = False, 0\n",
    "    for n_qubits in range(2, max_qubits + 1):  # Number of nodes aka qubits\n",
    "        for degree in range(2, n_qubits):  # This changes the problem Hamiltonian (and its solution)\n",
    "            if (n_qubits * degree) % 2:\n",
    "                continue  # must be even\n",
    "\n",
    "            while reached_max_depth is False:\n",
    "                n_layers += 1\n",
    "\n",
    "                circ_name = f\"qaoa_{n_qubits}qubits_{n_layers}layers_{degree}degree\"\n",
    "\n",
    "                # Generate a random regular graph for MaxCut\n",
    "                graph = nx.random_regular_graph(d=degree, n=n_qubits, seed=seed)\n",
    "                maxcut = Maxcut(graph)\n",
    "\n",
    "                mixer_circle = QuantumCircuit(n_qubits)\n",
    "                mixer_circle.sx(range(n_qubits))\n",
    "\n",
    "                # Create QAOA solver\n",
    "                qaoa = QAOA(sampler=Sampler(), reps=n_layers, optimizer=SLSQP(maxiter=25))\n",
    "\n",
    "                # Compute minimum eigenvalue for the MaxCut Ising model\n",
    "                ising_op, _offset = maxcut.to_quadratic_program().to_ising()\n",
    "                qaoa_result = qaoa.compute_minimum_eigenvalue(operator=ising_op)\n",
    "\n",
    "                # Create the QAOA ansatz circuit and assign optimal parameters -> get actual results when running the circuit\n",
    "                qaoa_circuit = qaoa.ansatz.assign_parameters(qaoa_result.optimal_point)\n",
    "\n",
    "                transpiled_circuit = transpile(\n",
    "                    qaoa_circuit, optimization_level=3, basis_gates=single_qubit_gates + multi_qubit_gates\n",
    "                )\n",
    "\n",
    "                # Skip circuits exceeding the maximum depth\n",
    "                if transpiled_circuit.depth() > max_depth:\n",
    "                    reached_max_depth = True\n",
    "                    break\n",
    "\n",
    "                # Save circuit as QPY file\n",
    "                save_circuit_as_qpy(transpiled_circuit, current_dir / \"qaoa_circuits\", circ_name)\n",
    "\n",
    "            # Reset the flag and layers counter\n",
    "            reached_max_depth, n_layers = False, 0"
   ]
  },
  {
   "cell_type": "markdown",
   "metadata": {},
   "source": [
    "### Setup"
   ]
  },
  {
   "cell_type": "code",
   "execution_count": null,
   "metadata": {},
   "outputs": [],
   "source": [
    "# For reproducibility\n",
    "seed = 111\n",
    "\n",
    "# QPU (or simulation) limits\n",
    "max_qubits = 5\n",
    "max_depth = 20\n",
    "\n",
    "# Native gates (currelty: FakeToronto)\n",
    "single_qubit_gates = [\"rz\", \"sx\", \"x\"]\n",
    "multi_qubit_gates = [\"cx\"]"
   ]
  },
  {
   "cell_type": "markdown",
   "metadata": {},
   "source": [
    "### Generation"
   ]
  },
  {
   "cell_type": "code",
   "execution_count": null,
   "metadata": {},
   "outputs": [],
   "source": [
    "generate_qnn_circuits(max_qubits, max_depth, seed, single_qubit_gates, multi_qubit_gates)\n",
    "generate_qaoa_circuits(max_qubits, max_depth, seed, single_qubit_gates, multi_qubit_gates)"
   ]
  },
  {
   "cell_type": "markdown",
   "metadata": {},
   "source": [
    "### Verification"
   ]
  },
  {
   "cell_type": "code",
   "execution_count": null,
   "metadata": {},
   "outputs": [],
   "source": [
    "# Helper function\n",
    "def simulate_circuit(circuit: QuantumCircuit) -> None:\n",
    "    \"\"\"Simulate a quantum circuit noiselessly using statevector simulation.\"\"\"\n",
    "\n",
    "    simulator = AerSimulator()\n",
    "\n",
    "    # Transpile the circuit for the simulator\n",
    "    transpiled_circuit = transpile(circuit, simulator)\n",
    "\n",
    "    # Run the simulation\n",
    "    result = simulator.run(transpiled_circuit).result()\n",
    "\n",
    "    # Get measurement results if circuit has measurements\n",
    "    if circuit.num_clbits > 0:\n",
    "        counts = result.get_counts()\n",
    "        print(\"Measurement Results:\", counts)"
   ]
  },
  {
   "cell_type": "code",
   "execution_count": null,
   "metadata": {},
   "outputs": [],
   "source": [
    "circuit_name = \"qaoa_3qubits_1layers_2degree\"\n",
    "\n",
    "with Path.open(current_dir / \"qaoa_circuits\" / f\"{circuit_name}.qpy\", \"rb\") as f:\n",
    "    circ = qpy.load(f)[0]\n",
    "\n",
    "simulate_circuit(circ)\n",
    "circ.draw()"
   ]
  }
 ],
 "metadata": {
  "kernelspec": {
   "display_name": ".venv",
   "language": "python",
   "name": "python3"
  },
  "language_info": {
   "codemirror_mode": {
    "name": "ipython",
    "version": 3
   },
   "file_extension": ".py",
   "mimetype": "text/x-python",
   "name": "python",
   "nbconvert_exporter": "python",
   "pygments_lexer": "ipython3"
  }
 },
 "nbformat": 4,
 "nbformat_minor": 2
}
