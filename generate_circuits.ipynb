{
 "cells": [
  {
   "cell_type": "markdown",
   "metadata": {},
   "source": [
    "### Imports"
   ]
  },
  {
   "cell_type": "code",
   "execution_count": 3,
   "metadata": {},
   "outputs": [],
   "source": [
    "import warnings\n",
    "\n",
    "import networkx as nx\n",
    "from qiskit import QuantumCircuit, qpy\n",
    "from qiskit.primitives import Sampler\n",
    "from qiskit_algorithms.minimum_eigensolvers import QAOA\n",
    "from qiskit_algorithms.optimizers import SLSQP\n",
    "from qiskit_optimization.applications import Maxcut\n",
    "\n",
    "warnings.filterwarnings(\"ignore\", category=DeprecationWarning)\n",
    "from pathlib import Path\n",
    "\n",
    "import numpy as np\n",
    "from qiskit import transpile\n",
    "from qiskit.circuit.library import n_local\n",
    "from qiskit_aer import AerSimulator"
   ]
  },
  {
   "cell_type": "markdown",
   "metadata": {},
   "source": [
    "### Helper functions"
   ]
  },
  {
   "cell_type": "code",
   "execution_count": 4,
   "metadata": {},
   "outputs": [],
   "source": [
    "current_dir = Path.cwd()\n",
    "\n",
    "\n",
    "def save_circuit_as_qpy(circuit, save_dir, circuit_name) -> None:\n",
    "    \"\"\"Save a quantum circuit as a QPY file (Qiskit's native format).\"\"\"\n",
    "\n",
    "    # Associate the circuit with its name\n",
    "    circuit.name = circuit_name\n",
    "\n",
    "    # Ensure directory exists\n",
    "    Path(save_dir).mkdir(parents=True, exist_ok=True)\n",
    "    file_path = save_dir / f\"{circuit_name}.qpy\"\n",
    "\n",
    "    # Check if the file already exists\n",
    "    if file_path.exists():\n",
    "        print(f\"File {file_path} already exists.\")\n",
    "        return\n",
    "\n",
    "    # Save file\n",
    "    with Path.open(file_path, \"wb\") as f:\n",
    "        qpy.dump(circuit, f)\n",
    "\n",
    "    # Load file\n",
    "    with Path.open(file_path, \"rb\") as f:\n",
    "        qpy.load(f)\n",
    "\n",
    "    print(f\"Circuit saved to {file_path}\")"
   ]
  },
  {
   "cell_type": "code",
   "execution_count": null,
   "metadata": {},
   "outputs": [
    {
     "ename": "KeyboardInterrupt",
     "evalue": "",
     "output_type": "error",
     "traceback": [
      "\u001b[0;31m---------------------------------------------------------------------------\u001b[0m",
      "\u001b[0;31mKeyboardInterrupt\u001b[0m                         Traceback (most recent call last)",
      "Cell \u001b[0;32mIn[18], line 13\u001b[0m\n\u001b[1;32m     10\u001b[0m     mirror_cic\u001b[38;5;241m.\u001b[39mname \u001b[38;5;241m=\u001b[39m \u001b[38;5;124mf\u001b[39m\u001b[38;5;124m\"\u001b[39m\u001b[38;5;124mmirror_\u001b[39m\u001b[38;5;132;01m{\u001b[39;00mcirc\u001b[38;5;241m.\u001b[39mname\u001b[38;5;132;01m}\u001b[39;00m\u001b[38;5;124m\"\u001b[39m\n\u001b[1;32m     11\u001b[0m     \u001b[38;5;28;01mreturn\u001b[39;00m mirror_cic\n\u001b[0;32m---> 13\u001b[0m \u001b[43mgenerate_qnn_circuits\u001b[49m\u001b[43m(\u001b[49m\u001b[43mmax_qubits\u001b[49m\u001b[43m,\u001b[49m\u001b[43m \u001b[49m\u001b[43mmax_depth\u001b[49m\u001b[43m,\u001b[49m\u001b[43m \u001b[49m\u001b[43mseed\u001b[49m\u001b[43m,\u001b[49m\u001b[43m \u001b[49m\u001b[43msingle_qubit_gates\u001b[49m\u001b[43m,\u001b[49m\u001b[43m \u001b[49m\u001b[43mmulti_qubit_gates\u001b[49m\u001b[43m,\u001b[49m\u001b[43m \u001b[49m\u001b[43mmirror_circuit\u001b[49m\u001b[38;5;241;43m=\u001b[39;49m\u001b[38;5;28;43;01mTrue\u001b[39;49;00m\u001b[43m)\u001b[49m\n",
      "Cell \u001b[0;32mIn[6], line 47\u001b[0m, in \u001b[0;36mgenerate_qnn_circuits\u001b[0;34m(max_qubits, max_depth, seed, single_qubit_gates, multi_qubit_gates, mirror_circuit)\u001b[0m\n\u001b[1;32m     45\u001b[0m \u001b[38;5;66;03m# Generate mirror circuit if requested\u001b[39;00m\n\u001b[1;32m     46\u001b[0m \u001b[38;5;28;01mif\u001b[39;00m mirror_circuit:\n\u001b[0;32m---> 47\u001b[0m     circ \u001b[38;5;241m=\u001b[39m \u001b[43mgenerate_mirror_circuit\u001b[49m\u001b[43m(\u001b[49m\u001b[43mcirc\u001b[49m\u001b[43m)\u001b[49m\n\u001b[1;32m     48\u001b[0m     circ_name \u001b[38;5;241m=\u001b[39m \u001b[38;5;124mf\u001b[39m\u001b[38;5;124m\"\u001b[39m\u001b[38;5;132;01m{\u001b[39;00mcirc_name\u001b[38;5;132;01m}\u001b[39;00m\u001b[38;5;124m_mirror\u001b[39m\u001b[38;5;124m\"\u001b[39m\n\u001b[1;32m     50\u001b[0m \u001b[38;5;66;03m# Save the circuit\u001b[39;00m\n",
      "Cell \u001b[0;32mIn[18], line 11\u001b[0m, in \u001b[0;36mgenerate_mirror_circuit\u001b[0;34m(circ)\u001b[0m\n\u001b[1;32m      8\u001b[0m     mirror_cic\u001b[38;5;241m.\u001b[39mappend(op\u001b[38;5;241m.\u001b[39minverse(), qargs\u001b[38;5;241m=\u001b[39mqreg, cargs\u001b[38;5;241m=\u001b[39mcreg)\n\u001b[1;32m     10\u001b[0m mirror_cic\u001b[38;5;241m.\u001b[39mname \u001b[38;5;241m=\u001b[39m \u001b[38;5;124mf\u001b[39m\u001b[38;5;124m\"\u001b[39m\u001b[38;5;124mmirror_\u001b[39m\u001b[38;5;132;01m{\u001b[39;00mcirc\u001b[38;5;241m.\u001b[39mname\u001b[38;5;132;01m}\u001b[39;00m\u001b[38;5;124m\"\u001b[39m\n\u001b[0;32m---> 11\u001b[0m \u001b[38;5;28;01mreturn\u001b[39;00m \u001b[43mmirror_cic\u001b[49m\n",
      "File \u001b[0;32m~/Code/mqt/mqt-bench/.venv/lib/python3.12/site-packages/debugpy/_vendored/pydevd/_pydevd_sys_monitoring/_pydevd_sys_monitoring.py:1459\u001b[0m, in \u001b[0;36m_line_event\u001b[0;34m(code, line)\u001b[0m\n\u001b[1;32m   1455\u001b[0m \u001b[38;5;66;03m# pydev_log.debug('_line_event', code.co_name, line)\u001b[39;00m\n\u001b[1;32m   1456\u001b[0m \n\u001b[1;32m   1457\u001b[0m \u001b[38;5;66;03m# We know the frame depth.\u001b[39;00m\n\u001b[1;32m   1458\u001b[0m frame \u001b[38;5;241m=\u001b[39m _getframe(\u001b[38;5;241m1\u001b[39m)\n\u001b[0;32m-> 1459\u001b[0m \u001b[38;5;28;01mreturn\u001b[39;00m \u001b[43m_internal_line_event\u001b[49m\u001b[43m(\u001b[49m\u001b[43mfunc_code_info\u001b[49m\u001b[43m,\u001b[49m\u001b[43m \u001b[49m\u001b[43mframe\u001b[49m\u001b[43m,\u001b[49m\u001b[43m \u001b[49m\u001b[43mline\u001b[49m\u001b[43m)\u001b[49m\n",
      "File \u001b[0;32m~/Code/mqt/mqt-bench/.venv/lib/python3.12/site-packages/debugpy/_vendored/pydevd/_pydevd_sys_monitoring/_pydevd_sys_monitoring.py:1501\u001b[0m, in \u001b[0;36m_internal_line_event\u001b[0;34m(func_code_info, frame, line)\u001b[0m\n\u001b[1;32m   1498\u001b[0m         stop \u001b[38;5;241m=\u001b[39m \u001b[38;5;28;01mTrue\u001b[39;00m\n\u001b[1;32m   1500\u001b[0m     \u001b[38;5;28;01mif\u001b[39;00m bp:\n\u001b[0;32m-> 1501\u001b[0m         \u001b[38;5;28;01mif\u001b[39;00m \u001b[43m_stop_on_breakpoint\u001b[49m\u001b[43m(\u001b[49m\u001b[43mpy_db\u001b[49m\u001b[43m,\u001b[49m\u001b[43m \u001b[49m\u001b[43mthread_info\u001b[49m\u001b[43m,\u001b[49m\u001b[43m \u001b[49m\u001b[43mstop_reason\u001b[49m\u001b[43m,\u001b[49m\u001b[43m \u001b[49m\u001b[43mbp\u001b[49m\u001b[43m,\u001b[49m\u001b[43m \u001b[49m\u001b[43mframe\u001b[49m\u001b[43m,\u001b[49m\u001b[43m \u001b[49m\u001b[43mnew_frame\u001b[49m\u001b[43m,\u001b[49m\u001b[43m \u001b[49m\u001b[43mstop\u001b[49m\u001b[43m,\u001b[49m\u001b[43m \u001b[49m\u001b[43mstop_on_plugin_breakpoint\u001b[49m\u001b[43m,\u001b[49m\u001b[43m \u001b[49m\u001b[38;5;124;43m\"\u001b[39;49m\u001b[38;5;124;43mpython-line\u001b[39;49m\u001b[38;5;124;43m\"\u001b[39;49m\u001b[43m)\u001b[49m:\n\u001b[1;32m   1502\u001b[0m             \u001b[38;5;28;01mreturn\u001b[39;00m\n\u001b[1;32m   1504\u001b[0m \u001b[38;5;28;01mif\u001b[39;00m func_code_info\u001b[38;5;241m.\u001b[39mplugin_line_breakpoint_found:\n",
      "File \u001b[0;32m~/Code/mqt/mqt-bench/.venv/lib/python3.12/site-packages/debugpy/_vendored/pydevd/_pydevd_sys_monitoring/_pydevd_sys_monitoring.py:1302\u001b[0m, in \u001b[0;36m_stop_on_breakpoint\u001b[0;34m(py_db, thread_info, stop_reason, bp, frame, new_frame, stop, stop_on_plugin_breakpoint, bp_type)\u001b[0m\n\u001b[1;32m   1296\u001b[0m     py_db\u001b[38;5;241m.\u001b[39mset_suspend(\n\u001b[1;32m   1297\u001b[0m         thread_info\u001b[38;5;241m.\u001b[39mthread,\n\u001b[1;32m   1298\u001b[0m         stop_reason,\n\u001b[1;32m   1299\u001b[0m         suspend_other_threads\u001b[38;5;241m=\u001b[39mbp \u001b[38;5;129;01mand\u001b[39;00m bp\u001b[38;5;241m.\u001b[39msuspend_policy \u001b[38;5;241m==\u001b[39m \u001b[38;5;124m\"\u001b[39m\u001b[38;5;124mALL\u001b[39m\u001b[38;5;124m\"\u001b[39m,\n\u001b[1;32m   1300\u001b[0m     )\n\u001b[1;32m   1301\u001b[0m     \u001b[38;5;66;03m# print('suspend on breakpoint...')\u001b[39;00m\n\u001b[0;32m-> 1302\u001b[0m     \u001b[43m_do_wait_suspend\u001b[49m\u001b[43m(\u001b[49m\u001b[43mpy_db\u001b[49m\u001b[43m,\u001b[49m\u001b[43m \u001b[49m\u001b[43mthread_info\u001b[49m\u001b[43m,\u001b[49m\u001b[43m \u001b[49m\u001b[43mframe\u001b[49m\u001b[43m,\u001b[49m\u001b[43m \u001b[49m\u001b[38;5;124;43m\"\u001b[39;49m\u001b[38;5;124;43mline\u001b[39;49m\u001b[38;5;124;43m\"\u001b[39;49m\u001b[43m,\u001b[49m\u001b[43m \u001b[49m\u001b[38;5;28;43;01mNone\u001b[39;49;00m\u001b[43m)\u001b[49m\n\u001b[1;32m   1303\u001b[0m     \u001b[38;5;28;01mreturn\u001b[39;00m \u001b[38;5;28;01mTrue\u001b[39;00m\n\u001b[1;32m   1305\u001b[0m \u001b[38;5;28;01melif\u001b[39;00m stop_on_plugin_breakpoint:\n",
      "File \u001b[0;32m~/Code/mqt/mqt-bench/.venv/lib/python3.12/site-packages/debugpy/_vendored/pydevd/_pydevd_sys_monitoring/_pydevd_sys_monitoring.py:1939\u001b[0m, in \u001b[0;36m_do_wait_suspend\u001b[0;34m(py_db, thread_info, frame, event, arg)\u001b[0m\n\u001b[1;32m   1935\u001b[0m \u001b[38;5;28;01mdef\u001b[39;00m \u001b[38;5;21m_do_wait_suspend\u001b[39m(py_db, thread_info, frame, event, arg):\n\u001b[1;32m   1936\u001b[0m \u001b[38;5;66;03m# ENDIF\u001b[39;00m\n\u001b[1;32m   1937\u001b[0m \u001b[38;5;66;03m# fmt: on\u001b[39;00m\n\u001b[1;32m   1938\u001b[0m     thread_info\u001b[38;5;241m.\u001b[39madditional_info\u001b[38;5;241m.\u001b[39mtrace_suspend_type \u001b[38;5;241m=\u001b[39m \u001b[38;5;124m\"\u001b[39m\u001b[38;5;124msys_monitor\u001b[39m\u001b[38;5;124m\"\u001b[39m\n\u001b[0;32m-> 1939\u001b[0m     \u001b[43mpy_db\u001b[49m\u001b[38;5;241;43m.\u001b[39;49m\u001b[43mdo_wait_suspend\u001b[49m\u001b[43m(\u001b[49m\u001b[43mthread_info\u001b[49m\u001b[38;5;241;43m.\u001b[39;49m\u001b[43mthread\u001b[49m\u001b[43m,\u001b[49m\u001b[43m \u001b[49m\u001b[43mframe\u001b[49m\u001b[43m,\u001b[49m\u001b[43m \u001b[49m\u001b[43mevent\u001b[49m\u001b[43m,\u001b[49m\u001b[43m \u001b[49m\u001b[43marg\u001b[49m\u001b[43m)\u001b[49m\n",
      "File \u001b[0;32m~/Code/mqt/mqt-bench/.venv/lib/python3.12/site-packages/debugpy/_vendored/pydevd/pydevd.py:2185\u001b[0m, in \u001b[0;36mPyDB.do_wait_suspend\u001b[0;34m(self, thread, frame, event, arg, exception_type)\u001b[0m\n\u001b[1;32m   2182\u001b[0m             from_this_thread\u001b[38;5;241m.\u001b[39mappend(frame_custom_thread_id)\n\u001b[1;32m   2184\u001b[0m     \u001b[38;5;28;01mwith\u001b[39;00m \u001b[38;5;28mself\u001b[39m\u001b[38;5;241m.\u001b[39m_threads_suspended_single_notification\u001b[38;5;241m.\u001b[39mnotify_thread_suspended(thread_id, thread, stop_reason):\n\u001b[0;32m-> 2185\u001b[0m         keep_suspended \u001b[38;5;241m=\u001b[39m \u001b[38;5;28;43mself\u001b[39;49m\u001b[38;5;241;43m.\u001b[39;49m\u001b[43m_do_wait_suspend\u001b[49m\u001b[43m(\u001b[49m\u001b[43mthread\u001b[49m\u001b[43m,\u001b[49m\u001b[43m \u001b[49m\u001b[43mframe\u001b[49m\u001b[43m,\u001b[49m\u001b[43m \u001b[49m\u001b[43mevent\u001b[49m\u001b[43m,\u001b[49m\u001b[43m \u001b[49m\u001b[43marg\u001b[49m\u001b[43m,\u001b[49m\u001b[43m \u001b[49m\u001b[43mtrace_suspend_type\u001b[49m\u001b[43m,\u001b[49m\u001b[43m \u001b[49m\u001b[43mfrom_this_thread\u001b[49m\u001b[43m,\u001b[49m\u001b[43m \u001b[49m\u001b[43mframes_tracker\u001b[49m\u001b[43m)\u001b[49m\n\u001b[1;32m   2187\u001b[0m frames_list \u001b[38;5;241m=\u001b[39m \u001b[38;5;28;01mNone\u001b[39;00m\n\u001b[1;32m   2189\u001b[0m \u001b[38;5;28;01mif\u001b[39;00m keep_suspended:\n\u001b[1;32m   2190\u001b[0m     \u001b[38;5;66;03m# This means that we should pause again after a set next statement.\u001b[39;00m\n",
      "File \u001b[0;32m~/Code/mqt/mqt-bench/.venv/lib/python3.12/site-packages/debugpy/_vendored/pydevd/pydevd.py:2254\u001b[0m, in \u001b[0;36mPyDB._do_wait_suspend\u001b[0;34m(self, thread, frame, event, arg, trace_suspend_type, from_this_thread, frames_tracker)\u001b[0m\n\u001b[1;32m   2251\u001b[0m                 queue\u001b[38;5;241m.\u001b[39mput(internal_cmd)\n\u001b[1;32m   2252\u001b[0m                 wait_timeout \u001b[38;5;241m=\u001b[39m TIMEOUT_FAST\n\u001b[0;32m-> 2254\u001b[0m         \u001b[43mnotify_event\u001b[49m\u001b[38;5;241;43m.\u001b[39;49m\u001b[43mwait\u001b[49m\u001b[43m(\u001b[49m\u001b[43mwait_timeout\u001b[49m\u001b[43m)\u001b[49m\n\u001b[1;32m   2255\u001b[0m         notify_event\u001b[38;5;241m.\u001b[39mclear()\n\u001b[1;32m   2257\u001b[0m \u001b[38;5;28;01mfinally\u001b[39;00m:\n",
      "File \u001b[0;32m~/.local/share/uv/python/cpython-3.12.6-macos-aarch64-none/lib/python3.12/threading.py:655\u001b[0m, in \u001b[0;36mEvent.wait\u001b[0;34m(self, timeout)\u001b[0m\n\u001b[1;32m    653\u001b[0m signaled \u001b[38;5;241m=\u001b[39m \u001b[38;5;28mself\u001b[39m\u001b[38;5;241m.\u001b[39m_flag\n\u001b[1;32m    654\u001b[0m \u001b[38;5;28;01mif\u001b[39;00m \u001b[38;5;129;01mnot\u001b[39;00m signaled:\n\u001b[0;32m--> 655\u001b[0m     signaled \u001b[38;5;241m=\u001b[39m \u001b[38;5;28;43mself\u001b[39;49m\u001b[38;5;241;43m.\u001b[39;49m\u001b[43m_cond\u001b[49m\u001b[38;5;241;43m.\u001b[39;49m\u001b[43mwait\u001b[49m\u001b[43m(\u001b[49m\u001b[43mtimeout\u001b[49m\u001b[43m)\u001b[49m\n\u001b[1;32m    656\u001b[0m \u001b[38;5;28;01mreturn\u001b[39;00m signaled\n",
      "File \u001b[0;32m~/.local/share/uv/python/cpython-3.12.6-macos-aarch64-none/lib/python3.12/threading.py:359\u001b[0m, in \u001b[0;36mCondition.wait\u001b[0;34m(self, timeout)\u001b[0m\n\u001b[1;32m    357\u001b[0m \u001b[38;5;28;01melse\u001b[39;00m:\n\u001b[1;32m    358\u001b[0m     \u001b[38;5;28;01mif\u001b[39;00m timeout \u001b[38;5;241m>\u001b[39m \u001b[38;5;241m0\u001b[39m:\n\u001b[0;32m--> 359\u001b[0m         gotit \u001b[38;5;241m=\u001b[39m \u001b[43mwaiter\u001b[49m\u001b[38;5;241;43m.\u001b[39;49m\u001b[43macquire\u001b[49m\u001b[43m(\u001b[49m\u001b[38;5;28;43;01mTrue\u001b[39;49;00m\u001b[43m,\u001b[49m\u001b[43m \u001b[49m\u001b[43mtimeout\u001b[49m\u001b[43m)\u001b[49m\n\u001b[1;32m    360\u001b[0m     \u001b[38;5;28;01melse\u001b[39;00m:\n\u001b[1;32m    361\u001b[0m         gotit \u001b[38;5;241m=\u001b[39m waiter\u001b[38;5;241m.\u001b[39macquire(\u001b[38;5;28;01mFalse\u001b[39;00m)\n",
      "\u001b[0;31mKeyboardInterrupt\u001b[0m: "
     ]
    }
   ],
   "source": [
    "def generate_mirror_circuit(circ):\n",
    "    \"\"\"Mirror a quantum circuit along the horizontal axis.\"\"\"\n",
    "    copy_circ = circ.copy()\n",
    "    copy_circ.remove_final_measurements()\n",
    "\n",
    "    mirror_cic = copy_circ.copy()\n",
    "    for op, qreg, creg in copy_circ.data[::-1]:\n",
    "        mirror_cic.append(op.inverse(), qargs=qreg, cargs=creg)\n",
    "    \n",
    "    mirror_cic.measure_all()\n",
    "    mirror_cic.name = f\"mirror_{circ.name}\"\n",
    "    return mirror_cic"
   ]
  },
  {
   "cell_type": "markdown",
   "metadata": {},
   "source": [
    "### Circuit generator functions"
   ]
  },
  {
   "cell_type": "code",
   "execution_count": 6,
   "metadata": {},
   "outputs": [],
   "source": [
    "def generate_qnn_circuits(\n",
    "        max_qubits=5, max_depth=10, seed=42, single_qubit_gates=None, multi_qubit_gates=None, mirror_circuit=False\n",
    "    ) -> None:\n",
    "    \"\"\"Generate QNN circuits with a given number of qubits and depth.\"\"\"\n",
    "\n",
    "    if multi_qubit_gates is None:\n",
    "        multi_qubit_gates = [\"cx\"]\n",
    "    if single_qubit_gates is None:\n",
    "        single_qubit_gates = [\"sx\", \"ry\"]\n",
    "    reached_max_depth, n_layers = False, 0\n",
    "    for n_qubits in range(2, max_qubits + 1):\n",
    "        for entanglement in [\"full\", \"linear\", \"sca\", \"reverse_linear\", \"circular\", \"pairwise\"]:\n",
    "            while not reached_max_depth:\n",
    "                n_layers += 1\n",
    "\n",
    "                circ_name = f\"twolocal_{n_qubits}qubits_{n_layers}layers_{entanglement}_entanglement\"\n",
    "\n",
    "                # Create circuit\n",
    "                circ = n_local(\n",
    "                    num_qubits=n_qubits,\n",
    "                    rotation_blocks=single_qubit_gates,\n",
    "                    entanglement_blocks=multi_qubit_gates,\n",
    "                    entanglement=entanglement,\n",
    "                    reps=n_layers,\n",
    "                    parameter_prefix=\"θ\",\n",
    "                    insert_barriers=False,\n",
    "                    overwrite_block_parameters=True,\n",
    "                    skip_final_rotation_layer=False,\n",
    "                    skip_unentangled_qubits=False,\n",
    "                    name=circ_name,\n",
    "                )\n",
    "                # Add final measurements\n",
    "                circ.measure_all()\n",
    "\n",
    "                if circ.depth() > max_depth:\n",
    "                    reached_max_depth = True\n",
    "                    break\n",
    "\n",
    "                # Set random parameters to the rotation gates\n",
    "                rng = np.random.default_rng(seed)\n",
    "                param_values = rng.uniform(0, 2 * np.pi, size=len(circ.parameters))\n",
    "                param_dict = dict(zip(circ.parameters, param_values, strict=False))\n",
    "                circ = circ.assign_parameters(param_dict)\n",
    "\n",
    "                # Generate mirror circuit if requested\n",
    "                if mirror_circuit:\n",
    "                    circ = generate_mirror_circuit(circ)\n",
    "                    circ_name = f\"{circ_name}_mirror\"\n",
    "\n",
    "                # Save the circuit\n",
    "                save_circuit_as_qpy(circ, current_dir / \"qnn_circuits\", circ_name)\n",
    "\n",
    "            # Reset the flag and layers counter\n",
    "            reached_max_depth, n_layers = False, 0"
   ]
  },
  {
   "cell_type": "code",
   "execution_count": 7,
   "metadata": {},
   "outputs": [],
   "source": [
    "def generate_qaoa_circuits(\n",
    "    max_qubits=5, max_depth=50, seed=42, single_qubit_gates=None, multi_qubit_gates=None, mirror_circuit=False\n",
    ") -> None:\n",
    "    \"\"\"Generate QAOA circuits for MaxCut problems.\"\"\"\n",
    "\n",
    "    if multi_qubit_gates is None:\n",
    "        multi_qubit_gates = [\"cx\"]\n",
    "    if single_qubit_gates is None:\n",
    "        single_qubit_gates = [\"sx\", \"ry\"]\n",
    "    reached_max_depth, n_layers = False, 0\n",
    "    for n_qubits in range(2, max_qubits + 1):  # Number of nodes aka qubits\n",
    "        for degree in range(2, n_qubits):  # This changes the problem Hamiltonian (and its solution)\n",
    "            if (n_qubits * degree) % 2:\n",
    "                continue  # must be even\n",
    "\n",
    "            while reached_max_depth is False:\n",
    "                n_layers += 1\n",
    "\n",
    "                circ_name = f\"qaoa_{n_qubits}qubits_{n_layers}layers_{degree}degree\"\n",
    "\n",
    "                # Generate a random regular graph for MaxCut\n",
    "                graph = nx.random_regular_graph(d=degree, n=n_qubits, seed=seed)\n",
    "                maxcut = Maxcut(graph)\n",
    "\n",
    "                mixer_circle = QuantumCircuit(n_qubits)\n",
    "                mixer_circle.sx(range(n_qubits))\n",
    "\n",
    "                # Create QAOA solver\n",
    "                qaoa = QAOA(sampler=Sampler(), reps=n_layers, optimizer=SLSQP(maxiter=25))\n",
    "\n",
    "                # Compute minimum eigenvalue for the MaxCut Ising model\n",
    "                ising_op, _offset = maxcut.to_quadratic_program().to_ising()\n",
    "                qaoa_result = qaoa.compute_minimum_eigenvalue(operator=ising_op)\n",
    "\n",
    "                # Create the QAOA ansatz circuit and assign optimal parameters -> get actual results when running the circuit\n",
    "                qaoa_circuit = qaoa.ansatz.assign_parameters(qaoa_result.optimal_point)\n",
    "\n",
    "                transpiled_circuit = transpile(\n",
    "                    qaoa_circuit, optimization_level=3, basis_gates=single_qubit_gates + multi_qubit_gates\n",
    "                )\n",
    "\n",
    "                # Skip circuits exceeding the maximum depth\n",
    "                if transpiled_circuit.depth() > max_depth:\n",
    "                    reached_max_depth = True\n",
    "                    break\n",
    "\n",
    "                # Generate mirror circuit if requested\n",
    "                if mirror_circuit:\n",
    "                    transpiled_circuit = generate_mirror_circuit(transpiled_circuit)\n",
    "                    circ_name = f\"{circ_name}_mirror\"\n",
    "\n",
    "                # Save circuit as QPY file\n",
    "                save_circuit_as_qpy(transpiled_circuit, current_dir / \"qaoa_circuits\", circ_name)\n",
    "\n",
    "            # Reset the flag and layers counter\n",
    "            reached_max_depth, n_layers = False, 0"
   ]
  },
  {
   "cell_type": "markdown",
   "metadata": {},
   "source": [
    "### Setup"
   ]
  },
  {
   "cell_type": "code",
   "execution_count": 8,
   "metadata": {},
   "outputs": [],
   "source": [
    "# For reproducibility\n",
    "seed = 111\n",
    "\n",
    "# QPU (or simulation) limits\n",
    "max_qubits = 5\n",
    "max_depth = 20\n",
    "\n",
    "# Native gates (currelty: FakeToronto)\n",
    "single_qubit_gates = [\"rz\", \"sx\", \"x\"]\n",
    "multi_qubit_gates = [\"cx\"]"
   ]
  },
  {
   "cell_type": "markdown",
   "metadata": {},
   "source": [
    "### Generation"
   ]
  },
  {
   "cell_type": "code",
   "execution_count": 11,
   "metadata": {},
   "outputs": [
    {
     "ename": "KeyboardInterrupt",
     "evalue": "",
     "output_type": "error",
     "traceback": [
      "\u001b[0;31m---------------------------------------------------------------------------\u001b[0m",
      "\u001b[0;31mKeyboardInterrupt\u001b[0m                         Traceback (most recent call last)",
      "Cell \u001b[0;32mIn[11], line 1\u001b[0m\n\u001b[0;32m----> 1\u001b[0m \u001b[43mgenerate_qnn_circuits\u001b[49m\u001b[43m(\u001b[49m\u001b[43mmax_qubits\u001b[49m\u001b[43m,\u001b[49m\u001b[43m \u001b[49m\u001b[43mmax_depth\u001b[49m\u001b[43m,\u001b[49m\u001b[43m \u001b[49m\u001b[43mseed\u001b[49m\u001b[43m,\u001b[49m\u001b[43m \u001b[49m\u001b[43msingle_qubit_gates\u001b[49m\u001b[43m,\u001b[49m\u001b[43m \u001b[49m\u001b[43mmulti_qubit_gates\u001b[49m\u001b[43m,\u001b[49m\u001b[43m \u001b[49m\u001b[43mmirror_circuit\u001b[49m\u001b[38;5;241;43m=\u001b[39;49m\u001b[38;5;28;43;01mTrue\u001b[39;49;00m\u001b[43m)\u001b[49m\n\u001b[1;32m      2\u001b[0m generate_qaoa_circuits(max_qubits, max_depth, seed, single_qubit_gates, multi_qubit_gates)\n",
      "Cell \u001b[0;32mIn[6], line 47\u001b[0m, in \u001b[0;36mgenerate_qnn_circuits\u001b[0;34m(max_qubits, max_depth, seed, single_qubit_gates, multi_qubit_gates, mirror_circuit)\u001b[0m\n\u001b[1;32m     45\u001b[0m \u001b[38;5;66;03m# Generate mirror circuit if requested\u001b[39;00m\n\u001b[1;32m     46\u001b[0m \u001b[38;5;28;01mif\u001b[39;00m mirror_circuit:\n\u001b[0;32m---> 47\u001b[0m     circ \u001b[38;5;241m=\u001b[39m \u001b[43mgenerate_mirror_circuit\u001b[49m\u001b[43m(\u001b[49m\u001b[43mcirc\u001b[49m\u001b[43m)\u001b[49m\n\u001b[1;32m     48\u001b[0m     circ_name \u001b[38;5;241m=\u001b[39m \u001b[38;5;124mf\u001b[39m\u001b[38;5;124m\"\u001b[39m\u001b[38;5;132;01m{\u001b[39;00mcirc_name\u001b[38;5;132;01m}\u001b[39;00m\u001b[38;5;124m_mirror\u001b[39m\u001b[38;5;124m\"\u001b[39m\n\u001b[1;32m     50\u001b[0m \u001b[38;5;66;03m# Save the circuit\u001b[39;00m\n",
      "Cell \u001b[0;32mIn[5], line 9\u001b[0m, in \u001b[0;36mgenerate_mirror_circuit\u001b[0;34m(circ)\u001b[0m\n\u001b[1;32m      7\u001b[0m inverse_circ \u001b[38;5;241m=\u001b[39m QuantumCircuit(circ\u001b[38;5;241m.\u001b[39mnum_qubits)\n\u001b[1;32m      8\u001b[0m \u001b[38;5;28;01mfor\u001b[39;00m qreg, creg, op \u001b[38;5;129;01min\u001b[39;00m circ\u001b[38;5;241m.\u001b[39mdata[::\u001b[38;5;241m-\u001b[39m\u001b[38;5;241m1\u001b[39m]:\n\u001b[0;32m----> 9\u001b[0m     \u001b[43minverse_circ\u001b[49m\u001b[38;5;241m.\u001b[39mappend(op\u001b[38;5;241m.\u001b[39minverse(), qargs\u001b[38;5;241m=\u001b[39mqreg, cargs\u001b[38;5;241m=\u001b[39mcreg)\n\u001b[1;32m     11\u001b[0m mirror_cic \u001b[38;5;241m=\u001b[39m QuantumCircuit\u001b[38;5;241m.\u001b[39mcompose(copy_circ, inverse_circ)\n\u001b[1;32m     12\u001b[0m mirror_cic\u001b[38;5;241m.\u001b[39mmeasure_active()\n",
      "File \u001b[0;32m~/Code/mqt/mqt-bench/.venv/lib/python3.12/site-packages/debugpy/_vendored/pydevd/_pydevd_sys_monitoring/_pydevd_sys_monitoring.py:1459\u001b[0m, in \u001b[0;36m_line_event\u001b[0;34m(code, line)\u001b[0m\n\u001b[1;32m   1455\u001b[0m \u001b[38;5;66;03m# pydev_log.debug('_line_event', code.co_name, line)\u001b[39;00m\n\u001b[1;32m   1456\u001b[0m \n\u001b[1;32m   1457\u001b[0m \u001b[38;5;66;03m# We know the frame depth.\u001b[39;00m\n\u001b[1;32m   1458\u001b[0m frame \u001b[38;5;241m=\u001b[39m _getframe(\u001b[38;5;241m1\u001b[39m)\n\u001b[0;32m-> 1459\u001b[0m \u001b[38;5;28;01mreturn\u001b[39;00m \u001b[43m_internal_line_event\u001b[49m\u001b[43m(\u001b[49m\u001b[43mfunc_code_info\u001b[49m\u001b[43m,\u001b[49m\u001b[43m \u001b[49m\u001b[43mframe\u001b[49m\u001b[43m,\u001b[49m\u001b[43m \u001b[49m\u001b[43mline\u001b[49m\u001b[43m)\u001b[49m\n",
      "File \u001b[0;32m~/Code/mqt/mqt-bench/.venv/lib/python3.12/site-packages/debugpy/_vendored/pydevd/_pydevd_sys_monitoring/_pydevd_sys_monitoring.py:1501\u001b[0m, in \u001b[0;36m_internal_line_event\u001b[0;34m(func_code_info, frame, line)\u001b[0m\n\u001b[1;32m   1498\u001b[0m         stop \u001b[38;5;241m=\u001b[39m \u001b[38;5;28;01mTrue\u001b[39;00m\n\u001b[1;32m   1500\u001b[0m     \u001b[38;5;28;01mif\u001b[39;00m bp:\n\u001b[0;32m-> 1501\u001b[0m         \u001b[38;5;28;01mif\u001b[39;00m \u001b[43m_stop_on_breakpoint\u001b[49m\u001b[43m(\u001b[49m\u001b[43mpy_db\u001b[49m\u001b[43m,\u001b[49m\u001b[43m \u001b[49m\u001b[43mthread_info\u001b[49m\u001b[43m,\u001b[49m\u001b[43m \u001b[49m\u001b[43mstop_reason\u001b[49m\u001b[43m,\u001b[49m\u001b[43m \u001b[49m\u001b[43mbp\u001b[49m\u001b[43m,\u001b[49m\u001b[43m \u001b[49m\u001b[43mframe\u001b[49m\u001b[43m,\u001b[49m\u001b[43m \u001b[49m\u001b[43mnew_frame\u001b[49m\u001b[43m,\u001b[49m\u001b[43m \u001b[49m\u001b[43mstop\u001b[49m\u001b[43m,\u001b[49m\u001b[43m \u001b[49m\u001b[43mstop_on_plugin_breakpoint\u001b[49m\u001b[43m,\u001b[49m\u001b[43m \u001b[49m\u001b[38;5;124;43m\"\u001b[39;49m\u001b[38;5;124;43mpython-line\u001b[39;49m\u001b[38;5;124;43m\"\u001b[39;49m\u001b[43m)\u001b[49m:\n\u001b[1;32m   1502\u001b[0m             \u001b[38;5;28;01mreturn\u001b[39;00m\n\u001b[1;32m   1504\u001b[0m \u001b[38;5;28;01mif\u001b[39;00m func_code_info\u001b[38;5;241m.\u001b[39mplugin_line_breakpoint_found:\n",
      "File \u001b[0;32m~/Code/mqt/mqt-bench/.venv/lib/python3.12/site-packages/debugpy/_vendored/pydevd/_pydevd_sys_monitoring/_pydevd_sys_monitoring.py:1302\u001b[0m, in \u001b[0;36m_stop_on_breakpoint\u001b[0;34m(py_db, thread_info, stop_reason, bp, frame, new_frame, stop, stop_on_plugin_breakpoint, bp_type)\u001b[0m\n\u001b[1;32m   1296\u001b[0m     py_db\u001b[38;5;241m.\u001b[39mset_suspend(\n\u001b[1;32m   1297\u001b[0m         thread_info\u001b[38;5;241m.\u001b[39mthread,\n\u001b[1;32m   1298\u001b[0m         stop_reason,\n\u001b[1;32m   1299\u001b[0m         suspend_other_threads\u001b[38;5;241m=\u001b[39mbp \u001b[38;5;129;01mand\u001b[39;00m bp\u001b[38;5;241m.\u001b[39msuspend_policy \u001b[38;5;241m==\u001b[39m \u001b[38;5;124m\"\u001b[39m\u001b[38;5;124mALL\u001b[39m\u001b[38;5;124m\"\u001b[39m,\n\u001b[1;32m   1300\u001b[0m     )\n\u001b[1;32m   1301\u001b[0m     \u001b[38;5;66;03m# print('suspend on breakpoint...')\u001b[39;00m\n\u001b[0;32m-> 1302\u001b[0m     \u001b[43m_do_wait_suspend\u001b[49m\u001b[43m(\u001b[49m\u001b[43mpy_db\u001b[49m\u001b[43m,\u001b[49m\u001b[43m \u001b[49m\u001b[43mthread_info\u001b[49m\u001b[43m,\u001b[49m\u001b[43m \u001b[49m\u001b[43mframe\u001b[49m\u001b[43m,\u001b[49m\u001b[43m \u001b[49m\u001b[38;5;124;43m\"\u001b[39;49m\u001b[38;5;124;43mline\u001b[39;49m\u001b[38;5;124;43m\"\u001b[39;49m\u001b[43m,\u001b[49m\u001b[43m \u001b[49m\u001b[38;5;28;43;01mNone\u001b[39;49;00m\u001b[43m)\u001b[49m\n\u001b[1;32m   1303\u001b[0m     \u001b[38;5;28;01mreturn\u001b[39;00m \u001b[38;5;28;01mTrue\u001b[39;00m\n\u001b[1;32m   1305\u001b[0m \u001b[38;5;28;01melif\u001b[39;00m stop_on_plugin_breakpoint:\n",
      "File \u001b[0;32m~/Code/mqt/mqt-bench/.venv/lib/python3.12/site-packages/debugpy/_vendored/pydevd/_pydevd_sys_monitoring/_pydevd_sys_monitoring.py:1939\u001b[0m, in \u001b[0;36m_do_wait_suspend\u001b[0;34m(py_db, thread_info, frame, event, arg)\u001b[0m\n\u001b[1;32m   1935\u001b[0m \u001b[38;5;28;01mdef\u001b[39;00m \u001b[38;5;21m_do_wait_suspend\u001b[39m(py_db, thread_info, frame, event, arg):\n\u001b[1;32m   1936\u001b[0m \u001b[38;5;66;03m# ENDIF\u001b[39;00m\n\u001b[1;32m   1937\u001b[0m \u001b[38;5;66;03m# fmt: on\u001b[39;00m\n\u001b[1;32m   1938\u001b[0m     thread_info\u001b[38;5;241m.\u001b[39madditional_info\u001b[38;5;241m.\u001b[39mtrace_suspend_type \u001b[38;5;241m=\u001b[39m \u001b[38;5;124m\"\u001b[39m\u001b[38;5;124msys_monitor\u001b[39m\u001b[38;5;124m\"\u001b[39m\n\u001b[0;32m-> 1939\u001b[0m     \u001b[43mpy_db\u001b[49m\u001b[38;5;241;43m.\u001b[39;49m\u001b[43mdo_wait_suspend\u001b[49m\u001b[43m(\u001b[49m\u001b[43mthread_info\u001b[49m\u001b[38;5;241;43m.\u001b[39;49m\u001b[43mthread\u001b[49m\u001b[43m,\u001b[49m\u001b[43m \u001b[49m\u001b[43mframe\u001b[49m\u001b[43m,\u001b[49m\u001b[43m \u001b[49m\u001b[43mevent\u001b[49m\u001b[43m,\u001b[49m\u001b[43m \u001b[49m\u001b[43marg\u001b[49m\u001b[43m)\u001b[49m\n",
      "File \u001b[0;32m~/Code/mqt/mqt-bench/.venv/lib/python3.12/site-packages/debugpy/_vendored/pydevd/pydevd.py:2185\u001b[0m, in \u001b[0;36mPyDB.do_wait_suspend\u001b[0;34m(self, thread, frame, event, arg, exception_type)\u001b[0m\n\u001b[1;32m   2182\u001b[0m             from_this_thread\u001b[38;5;241m.\u001b[39mappend(frame_custom_thread_id)\n\u001b[1;32m   2184\u001b[0m     \u001b[38;5;28;01mwith\u001b[39;00m \u001b[38;5;28mself\u001b[39m\u001b[38;5;241m.\u001b[39m_threads_suspended_single_notification\u001b[38;5;241m.\u001b[39mnotify_thread_suspended(thread_id, thread, stop_reason):\n\u001b[0;32m-> 2185\u001b[0m         keep_suspended \u001b[38;5;241m=\u001b[39m \u001b[38;5;28;43mself\u001b[39;49m\u001b[38;5;241;43m.\u001b[39;49m\u001b[43m_do_wait_suspend\u001b[49m\u001b[43m(\u001b[49m\u001b[43mthread\u001b[49m\u001b[43m,\u001b[49m\u001b[43m \u001b[49m\u001b[43mframe\u001b[49m\u001b[43m,\u001b[49m\u001b[43m \u001b[49m\u001b[43mevent\u001b[49m\u001b[43m,\u001b[49m\u001b[43m \u001b[49m\u001b[43marg\u001b[49m\u001b[43m,\u001b[49m\u001b[43m \u001b[49m\u001b[43mtrace_suspend_type\u001b[49m\u001b[43m,\u001b[49m\u001b[43m \u001b[49m\u001b[43mfrom_this_thread\u001b[49m\u001b[43m,\u001b[49m\u001b[43m \u001b[49m\u001b[43mframes_tracker\u001b[49m\u001b[43m)\u001b[49m\n\u001b[1;32m   2187\u001b[0m frames_list \u001b[38;5;241m=\u001b[39m \u001b[38;5;28;01mNone\u001b[39;00m\n\u001b[1;32m   2189\u001b[0m \u001b[38;5;28;01mif\u001b[39;00m keep_suspended:\n\u001b[1;32m   2190\u001b[0m     \u001b[38;5;66;03m# This means that we should pause again after a set next statement.\u001b[39;00m\n",
      "File \u001b[0;32m~/Code/mqt/mqt-bench/.venv/lib/python3.12/site-packages/debugpy/_vendored/pydevd/pydevd.py:2254\u001b[0m, in \u001b[0;36mPyDB._do_wait_suspend\u001b[0;34m(self, thread, frame, event, arg, trace_suspend_type, from_this_thread, frames_tracker)\u001b[0m\n\u001b[1;32m   2251\u001b[0m                 queue\u001b[38;5;241m.\u001b[39mput(internal_cmd)\n\u001b[1;32m   2252\u001b[0m                 wait_timeout \u001b[38;5;241m=\u001b[39m TIMEOUT_FAST\n\u001b[0;32m-> 2254\u001b[0m         \u001b[43mnotify_event\u001b[49m\u001b[38;5;241;43m.\u001b[39;49m\u001b[43mwait\u001b[49m\u001b[43m(\u001b[49m\u001b[43mwait_timeout\u001b[49m\u001b[43m)\u001b[49m\n\u001b[1;32m   2255\u001b[0m         notify_event\u001b[38;5;241m.\u001b[39mclear()\n\u001b[1;32m   2257\u001b[0m \u001b[38;5;28;01mfinally\u001b[39;00m:\n",
      "File \u001b[0;32m~/.local/share/uv/python/cpython-3.12.6-macos-aarch64-none/lib/python3.12/threading.py:655\u001b[0m, in \u001b[0;36mEvent.wait\u001b[0;34m(self, timeout)\u001b[0m\n\u001b[1;32m    653\u001b[0m signaled \u001b[38;5;241m=\u001b[39m \u001b[38;5;28mself\u001b[39m\u001b[38;5;241m.\u001b[39m_flag\n\u001b[1;32m    654\u001b[0m \u001b[38;5;28;01mif\u001b[39;00m \u001b[38;5;129;01mnot\u001b[39;00m signaled:\n\u001b[0;32m--> 655\u001b[0m     signaled \u001b[38;5;241m=\u001b[39m \u001b[38;5;28;43mself\u001b[39;49m\u001b[38;5;241;43m.\u001b[39;49m\u001b[43m_cond\u001b[49m\u001b[38;5;241;43m.\u001b[39;49m\u001b[43mwait\u001b[49m\u001b[43m(\u001b[49m\u001b[43mtimeout\u001b[49m\u001b[43m)\u001b[49m\n\u001b[1;32m    656\u001b[0m \u001b[38;5;28;01mreturn\u001b[39;00m signaled\n",
      "File \u001b[0;32m~/.local/share/uv/python/cpython-3.12.6-macos-aarch64-none/lib/python3.12/threading.py:359\u001b[0m, in \u001b[0;36mCondition.wait\u001b[0;34m(self, timeout)\u001b[0m\n\u001b[1;32m    357\u001b[0m \u001b[38;5;28;01melse\u001b[39;00m:\n\u001b[1;32m    358\u001b[0m     \u001b[38;5;28;01mif\u001b[39;00m timeout \u001b[38;5;241m>\u001b[39m \u001b[38;5;241m0\u001b[39m:\n\u001b[0;32m--> 359\u001b[0m         gotit \u001b[38;5;241m=\u001b[39m \u001b[43mwaiter\u001b[49m\u001b[38;5;241;43m.\u001b[39;49m\u001b[43macquire\u001b[49m\u001b[43m(\u001b[49m\u001b[38;5;28;43;01mTrue\u001b[39;49;00m\u001b[43m,\u001b[49m\u001b[43m \u001b[49m\u001b[43mtimeout\u001b[49m\u001b[43m)\u001b[49m\n\u001b[1;32m    360\u001b[0m     \u001b[38;5;28;01melse\u001b[39;00m:\n\u001b[1;32m    361\u001b[0m         gotit \u001b[38;5;241m=\u001b[39m waiter\u001b[38;5;241m.\u001b[39macquire(\u001b[38;5;28;01mFalse\u001b[39;00m)\n",
      "\u001b[0;31mKeyboardInterrupt\u001b[0m: "
     ]
    }
   ],
   "source": [
    "generate_qnn_circuits(max_qubits, max_depth, seed, single_qubit_gates, multi_qubit_gates, mirror_circuit=True)\n",
    "generate_qaoa_circuits(max_qubits, max_depth, seed, single_qubit_gates, multi_qubit_gates)"
   ]
  },
  {
   "cell_type": "markdown",
   "metadata": {},
   "source": [
    "### Verification"
   ]
  },
  {
   "cell_type": "code",
   "execution_count": 212,
   "metadata": {},
   "outputs": [],
   "source": [
    "# Helper function\n",
    "def simulate_circuit(circuit: QuantumCircuit) -> None:\n",
    "    \"\"\"Simulate a quantum circuit noiselessly using statevector simulation.\"\"\"\n",
    "\n",
    "    simulator = AerSimulator()\n",
    "\n",
    "    # Transpile the circuit for the simulator\n",
    "    transpiled_circuit = transpile(circuit, simulator)\n",
    "\n",
    "    # Run the simulation\n",
    "    result = simulator.run(transpiled_circuit).result()\n",
    "\n",
    "    # Get measurement results if circuit has measurements\n",
    "    if circuit.num_clbits > 0:\n",
    "        counts = result.get_counts()\n",
    "        print(\"Measurement Results:\", counts)"
   ]
  },
  {
   "cell_type": "code",
   "execution_count": 213,
   "metadata": {},
   "outputs": [
    {
     "name": "stdout",
     "output_type": "stream",
     "text": [
      "Measurement Results: {'001': 162, '110': 167, '100': 180, '101': 171, '011': 182, '010': 162}\n"
     ]
    },
    {
     "data": {
      "text/html": [
       "<pre style=\"word-wrap: normal;white-space: pre;background: #fff0;line-height: 1.1;font-family: &quot;Courier New&quot;,Courier,monospace\">global phase: 3π/4\n",
       "        ┌─────────┐┌────┐ ┌───────┐                                            »\n",
       "   q_0: ┤ Rz(π/2) ├┤ √X ├─┤ Rz(π) ├───■──────────────────■────■────────────────»\n",
       "        ├─────────┤├────┤┌┴───────┴┐┌─┴─┐┌────────────┐┌─┴─┐  │                »\n",
       "   q_1: ┤ Rz(π/2) ├┤ √X ├┤ Rz(π/2) ├┤ X ├┤ Rz(5.6677) ├┤ X ├──┼────────────────»\n",
       "        ├─────────┤├────┤├─────────┤└───┘└────────────┘└───┘┌─┴─┐┌────────────┐»\n",
       "   q_2: ┤ Rz(π/2) ├┤ √X ├┤ Rz(π/2) ├────────────────────────┤ X ├┤ Rz(5.6677) ├»\n",
       "        └─────────┘└────┘└─────────┘                        └───┘└────────────┘»\n",
       "meas: 3/═══════════════════════════════════════════════════════════════════════»\n",
       "                                                                               »\n",
       "«             ┌────┐┌─────────────┐┌────┐┌──────────┐                     »\n",
       "«   q_0: ──■──┤ √X ├┤ Rz(-11.951) ├┤ √X ├┤ Rz(5π/2) ├─────────────────────»\n",
       "«          │  └────┘└─────────────┘└────┘├─────────┬┘┌────┐┌─────────────┐»\n",
       "«   q_1: ──┼────■────────────────────■───┤ Rz(π/2) ├─┤ √X ├┤ Rz(-11.951) ├»\n",
       "«        ┌─┴─┐┌─┴─┐  ┌────────────┐┌─┴─┐ ├─────────┤ ├────┤├─────────────┤»\n",
       "«   q_2: ┤ X ├┤ X ├──┤ Rz(5.6677) ├┤ X ├─┤ Rz(π/2) ├─┤ √X ├┤ Rz(-11.951) ├»\n",
       "«        └───┘└───┘  └────────────┘└───┘ └─────────┘ └────┘└─────────────┘»\n",
       "«meas: 3/═════════════════════════════════════════════════════════════════»\n",
       "«                                                                         »\n",
       "«                           ░ ┌─┐      \n",
       "«   q_0: ───────────────────░─┤M├──────\n",
       "«        ┌────┐┌──────────┐ ░ └╥┘┌─┐   \n",
       "«   q_1: ┤ √X ├┤ Rz(5π/2) ├─░──╫─┤M├───\n",
       "«        ├────┤├──────────┤ ░  ║ └╥┘┌─┐\n",
       "«   q_2: ┤ √X ├┤ Rz(5π/2) ├─░──╫──╫─┤M├\n",
       "«        └────┘└──────────┘ ░  ║  ║ └╥┘\n",
       "«meas: 3/══════════════════════╩══╩══╩═\n",
       "«                              0  1  2 </pre>"
      ],
      "text/plain": [
       "global phase: 3π/4\n",
       "        ┌─────────┐┌────┐ ┌───────┐                                            »\n",
       "   q_0: ┤ Rz(π/2) ├┤ √X ├─┤ Rz(π) ├───■──────────────────■────■────────────────»\n",
       "        ├─────────┤├────┤┌┴───────┴┐┌─┴─┐┌────────────┐┌─┴─┐  │                »\n",
       "   q_1: ┤ Rz(π/2) ├┤ √X ├┤ Rz(π/2) ├┤ X ├┤ Rz(5.6677) ├┤ X ├──┼────────────────»\n",
       "        ├─────────┤├────┤├─────────┤└───┘└────────────┘└───┘┌─┴─┐┌────────────┐»\n",
       "   q_2: ┤ Rz(π/2) ├┤ √X ├┤ Rz(π/2) ├────────────────────────┤ X ├┤ Rz(5.6677) ├»\n",
       "        └─────────┘└────┘└─────────┘                        └───┘└────────────┘»\n",
       "meas: 3/═══════════════════════════════════════════════════════════════════════»\n",
       "                                                                               »\n",
       "«             ┌────┐┌─────────────┐┌────┐┌──────────┐                     »\n",
       "«   q_0: ──■──┤ √X ├┤ Rz(-11.951) ├┤ √X ├┤ Rz(5π/2) ├─────────────────────»\n",
       "«          │  └────┘└─────────────┘└────┘├─────────┬┘┌────┐┌─────────────┐»\n",
       "«   q_1: ──┼────■────────────────────■───┤ Rz(π/2) ├─┤ √X ├┤ Rz(-11.951) ├»\n",
       "«        ┌─┴─┐┌─┴─┐  ┌────────────┐┌─┴─┐ ├─────────┤ ├────┤├─────────────┤»\n",
       "«   q_2: ┤ X ├┤ X ├──┤ Rz(5.6677) ├┤ X ├─┤ Rz(π/2) ├─┤ √X ├┤ Rz(-11.951) ├»\n",
       "«        └───┘└───┘  └────────────┘└───┘ └─────────┘ └────┘└─────────────┘»\n",
       "«meas: 3/═════════════════════════════════════════════════════════════════»\n",
       "«                                                                         »\n",
       "«                           ░ ┌─┐      \n",
       "«   q_0: ───────────────────░─┤M├──────\n",
       "«        ┌────┐┌──────────┐ ░ └╥┘┌─┐   \n",
       "«   q_1: ┤ √X ├┤ Rz(5π/2) ├─░──╫─┤M├───\n",
       "«        ├────┤├──────────┤ ░  ║ └╥┘┌─┐\n",
       "«   q_2: ┤ √X ├┤ Rz(5π/2) ├─░──╫──╫─┤M├\n",
       "«        └────┘└──────────┘ ░  ║  ║ └╥┘\n",
       "«meas: 3/══════════════════════╩══╩══╩═\n",
       "«                              0  1  2 "
      ]
     },
     "execution_count": 213,
     "metadata": {},
     "output_type": "execute_result"
    }
   ],
   "source": [
    "circuit_name = \"qaoa_3qubits_1layers_2degree\"\n",
    "\n",
    "with Path.open(current_dir / \"qaoa_circuits\" / f\"{circuit_name}.qpy\", \"rb\") as f:\n",
    "    circ = qpy.load(f)[0]\n",
    "\n",
    "simulate_circuit(circ)\n",
    "circ.draw()"
   ]
  }
 ],
 "metadata": {
  "kernelspec": {
   "display_name": ".venv",
   "language": "python",
   "name": "python3"
  },
  "language_info": {
   "codemirror_mode": {
    "name": "ipython",
    "version": 3
   },
   "file_extension": ".py",
   "mimetype": "text/x-python",
   "name": "python",
   "nbconvert_exporter": "python",
   "pygments_lexer": "ipython3",
   "version": "3.12.6"
  }
 },
 "nbformat": 4,
 "nbformat_minor": 2
}
