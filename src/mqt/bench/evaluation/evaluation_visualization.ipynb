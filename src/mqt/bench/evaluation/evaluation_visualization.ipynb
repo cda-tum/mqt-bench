{
 "cells": [
  {
   "cell_type": "code",
   "execution_count": null,
   "id": "2d493d7f",
   "metadata": {},
   "outputs": [],
   "source": [
    "import numpy as np\n",
    "import matplotlib.pyplot as plt\n",
    "import pickle\n",
    "from pathlib import Path\n",
    "import matplotlib\n",
    "\n",
    "font = {\"size\": 12}\n",
    "matplotlib.rc(\"font\", **font)"
   ]
  },
  {
   "cell_type": "code",
   "execution_count": null,
   "id": "12d027e8",
   "metadata": {},
   "outputs": [],
   "source": [
    "with Path(\"./evaluation_data.pkl\").open(\"rb\") as f:\n",
    "    eval_data = pickle.load(f)\n",
    "eval_data = np.array(eval_data)\n",
    "\n",
    "(\n",
    "    benchmarks,\n",
    "    num_qubits,\n",
    "    depth,\n",
    "    num_all_gates,\n",
    "    num_nonlocal_gates,\n",
    "    program_communication,\n",
    "    critical_depth,\n",
    "    entanglement_ratio,\n",
    "    parallelism,\n",
    "    liveness,\n",
    ") = [eval_data[:, i] for i in range(len(eval_data[0]))]\n",
    "perc_multi = num_nonlocal_gates / num_all_gates"
   ]
  },
  {
   "cell_type": "markdown",
   "id": "0cde4a8b",
   "metadata": {},
   "source": [
    "# Device Distribution"
   ]
  },
  {
   "cell_type": "code",
   "execution_count": null,
   "id": "588b8449",
   "metadata": {},
   "outputs": [],
   "source": [
    "overall_count_indep = 0\n",
    "indep_qiskit = 0\n",
    "indep_tket = 0\n",
    "\n",
    "overall_count_nat = 0\n",
    "nat_ibm = 0\n",
    "nat_rigetti = 0\n",
    "nat_oqc = 0\n",
    "nat_ionq = 0\n",
    "\n",
    "overall_count_mapped = 0\n",
    "mapped_ibm_montreal_count = 0\n",
    "mapped_ibm_washington_count = 0\n",
    "mapped_oqc_lucy_count = 0\n",
    "mapped_rigetti_count = 0\n",
    "mapped_ionq_count = 0\n",
    "\n",
    "qiskit_qubit_numbers = []\n",
    "tket_qubit_numbers = []\n",
    "\n",
    "for file in benchmarks:\n",
    "    str_file = str(file)\n",
    "    if \"qiskit\" in str_file:\n",
    "        qiskit_qubit_numbers.append(int(str_file.split(\"_\")[-1].split(\".\")[0]))\n",
    "    elif \"tket\" in str_file:\n",
    "        tket_qubit_numbers.append(int(str_file.split(\"_\")[-1].split(\".\")[0]))\n",
    "\n",
    "    if \"indep\" in str_file:\n",
    "        overall_count_indep += 1\n",
    "        if \"indep_qiskit\" in str_file:\n",
    "            indep_qiskit += 1\n",
    "        if \"indep_tket\" in str_file:\n",
    "            indep_tket += 1\n",
    "\n",
    "    if \"nativegates\" in str_file:\n",
    "        overall_count_nat += 1\n",
    "        if \"nativegates_ibm\" in str_file:\n",
    "            nat_ibm += 1\n",
    "        if \"nativegates_rigetti\" in str_file:\n",
    "            nat_rigetti += 1\n",
    "        if \"nativegates_oqc\" in str_file:\n",
    "            nat_oqc += 1\n",
    "        if \"nativegates_ionq\" in str_file:\n",
    "            nat_ionq += 1\n",
    "    elif \"mapped\" in str_file:\n",
    "        overall_count_mapped += 1\n",
    "        if \"mapped_ibm_montreal\" in str_file:\n",
    "            mapped_ibm_montreal_count += 1\n",
    "        if \"mapped_ibm_washington\" in str_file:\n",
    "            mapped_ibm_washington_count += 1\n",
    "        if \"mapped_oqc_lucy\" in str_file:\n",
    "            mapped_oqc_lucy_count += 1\n",
    "        if \"mapped_rigetti\" in str_file:\n",
    "            mapped_rigetti_count += 1\n",
    "        if \"mapped_ionq\" in str_file:\n",
    "            mapped_ionq_count += 1"
   ]
  },
  {
   "cell_type": "code",
   "execution_count": null,
   "id": "9c53ad8e",
   "metadata": {},
   "outputs": [],
   "source": [
    "perc_qiskit_indep = indep_qiskit / overall_count_indep\n",
    "print(perc_qiskit_indep)\n",
    "perc_tket_indep = indep_tket / overall_count_indep\n",
    "print(perc_tket_indep)\n",
    "print(perc_qiskit_indep + perc_tket_indep, overall_count_indep)"
   ]
  },
  {
   "cell_type": "code",
   "execution_count": null,
   "id": "0abc68e9",
   "metadata": {},
   "outputs": [],
   "source": [
    "perc_nat_ibm = nat_ibm / overall_count_nat\n",
    "print(perc_nat_ibm)\n",
    "perc_nat_rigetti = nat_rigetti / overall_count_nat\n",
    "print(perc_nat_rigetti)\n",
    "perc_nat_oqc = nat_oqc / overall_count_nat\n",
    "print(perc_nat_oqc)\n",
    "perc_nat_ionq = nat_ionq / overall_count_nat\n",
    "print(perc_nat_ionq)\n",
    "print(sum([perc_nat_ibm, perc_nat_rigetti, perc_nat_oqc, perc_nat_ionq]), overall_count_nat)"
   ]
  },
  {
   "cell_type": "code",
   "execution_count": null,
   "id": "3bfc2767",
   "metadata": {},
   "outputs": [],
   "source": [
    "perc_montreal = mapped_ibm_montreal_count / overall_count_mapped\n",
    "print(perc_montreal)\n",
    "perc_washington = mapped_ibm_washington_count / overall_count_mapped\n",
    "print(perc_washington)\n",
    "perc_oqc = mapped_oqc_lucy_count / overall_count_mapped\n",
    "print(perc_oqc)\n",
    "perc_rigetti = mapped_rigetti_count / overall_count_mapped\n",
    "print(perc_rigetti)\n",
    "perc_ionq = mapped_ionq_count / overall_count_mapped\n",
    "print(perc_ionq)\n",
    "print(sum([perc_montreal, perc_washington, perc_oqc, perc_rigetti, perc_ionq]), overall_count_mapped)"
   ]
  },
  {
   "cell_type": "code",
   "execution_count": null,
   "id": "089acc25",
   "metadata": {},
   "outputs": [],
   "source": [
    "data = [perc_washington, perc_rigetti, perc_montreal, perc_ionq, perc_oqc]\n",
    "colors = [\"#B7E6A5\", \"#7CCBA2\", \"#46AEA0\", \"#089099\", \"#00718B\"]\n",
    "labels = [\"IBMQ Washington (127)\", \"Rigetti Aspen M2 (80)\", \"IBMQ Montreal (27)\", \"IonQ Harmony (11)\", \"OQC Lucy (8)\"]\n",
    "pies = plt.pie(data, labels=labels, autopct=\"%1.1f%%\", colors=colors)\n",
    "for pie in pies[0]:\n",
    "    pie.set_alpha(0.6)\n",
    "plt.savefig(\"results/pie.pdf\", format=\"pdf\", bbox_inches=\"tight\")\n",
    "plt.show()"
   ]
  },
  {
   "cell_type": "markdown",
   "id": "1fc0ca44",
   "metadata": {},
   "source": [
    "# Num Qubits"
   ]
  },
  {
   "cell_type": "code",
   "execution_count": null,
   "id": "fd1cc85d",
   "metadata": {},
   "outputs": [],
   "source": [
    "import seaborn as sns\n",
    "\n",
    "# colors = ['#7CCBA2', '#46AEA0', '#089099', \"#00718B\", \"#045275\", \"#003147\"]\n",
    "# colors = ['#089099', '#003147']\n",
    "plt.figure(figsize=(10, 5))\n",
    "plot = sns.histplot(\n",
    "    data=[qiskit_qubit_numbers, tket_qubit_numbers],\n",
    "    bins=128,\n",
    "    stat=\"density\",\n",
    "    alpha=0.3,\n",
    "    kde=True,\n",
    "    edgecolor=\"white\",\n",
    "    linewidth=0.5,\n",
    "    palette=sns.color_palette(\"viridis\", 2),\n",
    ")\n",
    "plt.legend([\"TKET\", \"Qiskit\"], reverse=True)\n",
    "plt.ylabel(\"Relative Frequency\")\n",
    "plt.xlabel(\"Number of Qubits\")\n",
    "plt.savefig(\"results/qubit_dist.pdf\", format=\"pdf\", bbox_inches=\"tight\")\n",
    "plt.show()"
   ]
  },
  {
   "cell_type": "markdown",
   "id": "ed8581be",
   "metadata": {},
   "source": [
    "# Further Characteristics"
   ]
  },
  {
   "cell_type": "code",
   "execution_count": null,
   "id": "2f71d39c",
   "metadata": {},
   "outputs": [],
   "source": [
    "datasets = [\n",
    "    program_communication.astype(float),\n",
    "    critical_depth.astype(float),\n",
    "    entanglement_ratio.astype(float),\n",
    "    liveness.astype(float),\n",
    "    parallelism.astype(float),\n",
    "    perc_multi.astype(float),\n",
    "]\n",
    "labels = [\n",
    "    \"Program Communication\",\n",
    "    \"Critical Depth\",\n",
    "    \"Entanglement Ratio\",\n",
    "    \"Liveness\",\n",
    "    \"Parallelism\",\n",
    "    \"Percentage Multi-Qubit Gates\",\n",
    "]"
   ]
  },
  {
   "cell_type": "code",
   "execution_count": null,
   "id": "54ac24f3",
   "metadata": {},
   "outputs": [],
   "source": [
    "fig = plt.figure(figsize=(19, 4))\n",
    "ax = fig.add_subplot(111)\n",
    "colors = [\"#7CCBA2\", \"#46AEA0\", \"#089099\", \"#00718B\", \"#045275\", \"#003147\"]\n",
    "pos = range(len(datasets))\n",
    "plots = plt.violinplot(datasets, pos)\n",
    "for pc, color in zip(plots[\"bodies\"], colors):\n",
    "    pc.set_facecolor(color)\n",
    "\n",
    "ax.set_xticks(pos)\n",
    "plt.xticks(rotation=0)\n",
    "ax.set_xticklabels(labels)\n",
    "plt.savefig(\"results/violins.pdf\", format=\"pdf\", bbox_inches=\"tight\")"
   ]
  }
 ],
 "metadata": {
  "kernelspec": {
   "display_name": "Python 3 (ipykernel)",
   "language": "python",
   "name": "python3"
  },
  "language_info": {
   "codemirror_mode": {
    "name": "ipython",
    "version": 3
   },
   "file_extension": ".py",
   "mimetype": "text/x-python",
   "name": "python",
   "nbconvert_exporter": "python",
   "pygments_lexer": "ipython3"
  }
 },
 "nbformat": 4,
 "nbformat_minor": 5
}